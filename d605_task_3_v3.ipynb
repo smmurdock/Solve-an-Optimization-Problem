{
  "nbformat": 4,
  "nbformat_minor": 0,
  "metadata": {
    "colab": {
      "provenance": [],
      "toc_visible": true,
      "include_colab_link": true
    },
    "kernelspec": {
      "name": "python3",
      "display_name": "Python 3"
    },
    "language_info": {
      "name": "python"
    }
  },
  "cells": [
    {
      "cell_type": "markdown",
      "metadata": {
        "id": "view-in-github",
        "colab_type": "text"
      },
      "source": [
        "<a href=\"https://colab.research.google.com/github/smmurdock/Solve-an-Optimization-Problem/blob/main/d605_task_3_v3.ipynb\" target=\"_parent\"><img src=\"https://colab.research.google.com/assets/colab-badge.svg\" alt=\"Open In Colab\"/></a>"
      ]
    },
    {
      "cell_type": "markdown",
      "source": [
        "# D605 Task 3 - Identification of the Objective Function and Constraints"
      ],
      "metadata": {
        "id": "rPDBjDsRj1m_"
      }
    },
    {
      "cell_type": "markdown",
      "source": [
        "## A. Optimization Problem Program"
      ],
      "metadata": {
        "id": "SwNz8Kfmj6vV"
      }
    },
    {
      "cell_type": "markdown",
      "source": [
        "> Using the mathematical representations that you developed in Task 2, write a program in either Python or R to solve the optimization problem computationally."
      ],
      "metadata": {
        "id": "NgHKGXVwkQXp"
      }
    },
    {
      "cell_type": "code",
      "source": [
        "!pip install pulp"
      ],
      "metadata": {
        "id": "sQ5Xu4Wpkg4Y",
        "colab": {
          "base_uri": "https://localhost:8080/"
        },
        "outputId": "8c61db26-60d4-4b39-e5ca-3d003ff6305a"
      },
      "execution_count": 12,
      "outputs": [
        {
          "output_type": "stream",
          "name": "stdout",
          "text": [
            "Requirement already satisfied: pulp in /usr/local/lib/python3.12/dist-packages (3.3.0)\n"
          ]
        }
      ]
    },
    {
      "cell_type": "code",
      "source": [
        "import pulp\n",
        "import sys"
      ],
      "metadata": {
        "id": "f2lcFxsqk0Es"
      },
      "execution_count": 13,
      "outputs": []
    },
    {
      "cell_type": "code",
      "source": [
        "# --- Data definitions as described from \"Amazon Distribution.docx\" ---\n",
        "# Define the sets of locations\n",
        "hubs = ['CVG', 'AFW']\n",
        "focus_cities = ['Leipzig', 'Hyderabad', 'San Bernardino']\n",
        "centers = [\n",
        "    'Paris', 'Cologne', 'Hanover', 'Bangalore',\n",
        "    'Coimbatore', 'Delhi', 'Mumbai', 'Cagliari',\n",
        "    'Catania', 'Milan', 'Rome', 'Katowice',\n",
        "    'Barcelona', 'Madrid', 'Castle Donington', 'London',\n",
        "    'Mobile', 'Anchorage', 'Fairbanks', 'Phoenix',\n",
        "    'Los Angeles', 'Ontario', 'Riverside', 'Sacramento',\n",
        "    'San Francisco', 'Stockton', 'Denver', 'Hartford',\n",
        "    'Miami', 'Lakeland', 'Tampa', 'Atlanta',\n",
        "    'Honolulu', 'Kahului/Maui', 'Kona', 'Chicago',\n",
        "    'Rockford', 'Fort Wayne', 'South Bend', 'Des Moines',\n",
        "    'Wichita', 'New Orleans', 'Baltimore', 'Minneapolis',\n",
        "    'Kansas City', 'St. Louis', 'Omaha', 'Manchester',\n",
        "    'Albuquerque', 'New York', 'Charlotte', 'Toledo',\n",
        "    'Wilmington', 'Portland', 'Allentown', 'Pittsburgh',\n",
        "    'San Juan', 'Nashville', 'Austin', 'Dallas',\n",
        "    'Houston', 'San Antonio', 'Richmond', 'Seattle/Tacoma',\n",
        "    'Spokane'\n",
        "]\n",
        "\n",
        "# Define capacities for hubs and focus cities\n",
        "hub_capacities = {\n",
        "    'CVG': 95_650,\n",
        "    'AFW': 44_350\n",
        "}\n",
        "\n",
        "focus_city_capacities = {\n",
        "    'Leipzig': 85_000,\n",
        "    'Hyderabad': 19_000,\n",
        "    'San Bernardino': 36_000\n",
        "}\n",
        "\n",
        "# Define demand for each fulfillment center\n",
        "center_demands = {\n",
        "    'Paris': 6500, 'Cologne': 640, 'Hanover': 180, 'Bangalore': 9100,\n",
        "    'Coimbatore': 570, 'Delhi': 19000, 'Mumbai': 14800, 'Cagliari': 90,\n",
        "    'Catania': 185, 'Milan': 800, 'Rome': 1700, 'Katowice': 170,\n",
        "    'Barcelona': 2800, 'Madrid': 3700, 'Castle Donington': 30, 'London': 6700,\n",
        "    'Mobile': 190, 'Anchorage': 175, 'Fairbanks': 38, 'Phoenix': 2400,\n",
        "    'Los Angeles': 7200, 'Ontario': 100, 'Riverside': 1200, 'Sacramento': 1100,\n",
        "    'San Francisco': 1900, 'Stockton': 240, 'Denver': 1500, 'Hartford': 540,\n",
        "    'Miami': 3400, 'Lakeland': 185, 'Tampa': 1600, 'Atlanta': 3000,\n",
        "    'Honolulu': 500, 'Kahului/Maui': 16, 'Kona': 63, 'Chicago': 5100,\n",
        "    'Rockford': 172, 'Fort Wayne': 200, 'South Bend': 173, 'Des Moines': 300,\n",
        "    'Wichita': 290, 'New Orleans': 550, 'Baltimore': 1300, 'Minneapolis': 1700,\n",
        "    'Kansas City': 975, 'St. Louis': 1200, 'Omaha': 480, 'Manchester': 100,\n",
        "    'Albuquerque': 450, 'New York': 11200, 'Charlotte': 900, 'Toledo': 290,\n",
        "    'Wilmington': 150, 'Portland': 1200, 'Allentown': 420, 'Pittsburgh': 1000,\n",
        "    'San Juan': 1100, 'Nashville': 650, 'Austin': 975, 'Dallas': 3300,\n",
        "    'Houston': 3300, 'San Antonio': 1100, 'Richmond': 600, 'Seattle/Tacoma': 2000,\n",
        "    'Spokane': 260\n",
        "}\n",
        "\n",
        "# Define transportation costs\n",
        "# Keys: tuples (source, destination)\n",
        "# Value: float (distribution cost)\n",
        "costs = {\n",
        "    # Hub to Focus City\n",
        "    ('CVG', 'Leipzig'): 1.5, ('CVG', 'San Bernardino'): 0.5,\n",
        "    ('AFW', 'San Bernardino'): 0.5,\n",
        "    ('Leipzig', 'Hyderabad'): 1.6,\n",
        "    # Hub to Fulfillment Center\n",
        "    ('CVG', 'Paris'): 1.6, ('CVG', 'Cologne'): 1.5, ('CVG', 'Hanover'): 1.5, ('CVG', 'Cagliari'): 1.5,\n",
        "    ('CVG', 'Catania'): 1.5, ('CVG', 'Milan'): 1.5, ('CVG', 'Rome'): 1.5, ('CVG', 'Katowice'): 1.4,\n",
        "    ('CVG', 'Barcelona'): 1.5, ('CVG', 'Madrid'): 1.6, ('CVG', 'Castle Donington'): 1.4, ('CVG', 'London'): 1.6,\n",
        "    ('CVG', 'Mobile'): 0.5, ('CVG', 'Anchorage'): 1.3, ('CVG', 'Fairbanks'): 1.4, ('CVG', 'Phoenix'): 0.5,\n",
        "    ('CVG', 'Los Angeles'): 0.5, ('CVG', 'Ontario'): 0.5, ('CVG', 'Riverside'): 0.5, ('CVG', 'Sacramento'): 0.5,\n",
        "    ('CVG', 'San Francisco'): 0.5, ('CVG', 'Stockton'): 0.5, ('CVG', 'Denver'): 0.5, ('CVG', 'Hartford'): 0.5,\n",
        "    ('CVG', 'Miami'): 0.5, ('CVG', 'Lakeland'): 0.5, ('CVG', 'Tampa'): 0.5, ('CVG', 'Atlanta'): 0.5,\n",
        "    ('CVG', 'Chicago'): 0.5, ('CVG', 'Rockford'): 0.5, ('CVG', 'Fort Wayne'): 0.5, ('CVG', 'South Bend'): 0.5,\n",
        "    ('CVG', 'Des Moines'): 0.5, ('CVG', 'Wichita'): 0.5, ('CVG', 'New Orleans'): 0.5, ('CVG', 'Baltimore'): 0.5,\n",
        "    ('CVG', 'Minneapolis'): 0.5, ('CVG', 'Kansas City'): 0.5, ('CVG', 'St. Louis'): 0.5, ('CVG', 'Omaha'): 0.5,\n",
        "    ('CVG', 'Manchester'): 0.5, ('CVG', 'Albuquerque'): 0.5, ('CVG', 'New York'): 0.5, ('CVG', 'Charlotte'): 0.5,\n",
        "    ('CVG', 'Toledo'): 0.5, ('CVG', 'Wilmington'): 0.5, ('CVG', 'Portland'): 0.5, ('CVG', 'Allentown'): 0.5,\n",
        "    ('CVG', 'Pittsburgh'): 0.5, ('CVG', 'San Juan'): 0.5, ('CVG', 'Nashville'): 0.5, ('CVG', 'Austin'): 0.5,\n",
        "    ('CVG', 'Dallas'): 0.5, ('CVG', 'Houston'): 0.5, ('CVG', 'San Antonio'): 0.5, ('CVG', 'Richmond'): 0.5,\n",
        "    ('CVG', 'Seattle/Tacoma'): 0.5, ('CVG', 'Spokane'): 0.5, ('AFW', 'Mobile'): 0.5, ('AFW', 'Anchorage'): 1.0,\n",
        "    ('AFW', 'Fairbanks'): 1.0, ('AFW', 'Phoenix'): 0.5, ('AFW', 'Los Angeles'): 0.5, ('AFW', 'Ontario'): 0.5,\n",
        "    ('AFW', 'Riverside'): 0.5, ('AFW', 'Sacramento'): 0.5, ('AFW', 'San Francisco'): 0.5, ('AFW', 'Stockton'): 0.5,\n",
        "    ('AFW', 'Denver'): 0.5, ('AFW', 'Hartford'): 0.5, ('AFW', 'Miami'): 0.5, ('AFW', 'Lakeland'): 0.5,\n",
        "    ('AFW', 'Tampa'): 0.5, ('AFW', 'Atlanta'): 0.5, ('AFW', 'Honolulu'): 0.5, ('AFW', 'Kahului/Maui'): 0.5,\n",
        "    ('AFW', 'Kona'): 0.5, ('AFW', 'Chicago'): 0.5, ('AFW', 'Rockford'): 0.5, ('AFW', 'Fort Wayne'): 0.5,\n",
        "    ('AFW', 'South Bend'): 0.5, ('AFW', 'Des Moines'): 0.5, ('AFW', 'Wichita'): 0.5, ('AFW', 'New Orleans'): 0.5,\n",
        "    ('AFW', 'Baltimore'): 0.5, ('AFW', 'Minneapolis'): 0.5, ('AFW', 'Kansas City'): 0.5, ('AFW', 'St. Louis'): 0.5,\n",
        "    ('AFW', 'Omaha'): 0.5, ('AFW', 'Manchester'): 0.5, ('AFW', 'Albuquerque'): 0.5, ('AFW', 'New York'): 0.5,\n",
        "    ('AFW', 'Charlotte'): 0.5, ('AFW', 'Toledo'): 0.5, ('AFW', 'Wilmington'): 0.5, ('AFW', 'Portland'): 0.5,\n",
        "    ('AFW', 'Allentown'): 0.5, ('AFW', 'Pittsburgh'): 0.5, ('AFW', 'San Juan'): 0.5, ('AFW', 'Nashville'): 0.5,\n",
        "    ('AFW', 'Austin'): 0.25, ('AFW', 'Houston'): 0.25, ('AFW', 'San Antonio'): 0.25, ('AFW', 'Richmond'): 0.5,\n",
        "    ('AFW', 'Seattle/Tacoma'): 0.5, ('AFW', 'Spokane'): 0.5,\n",
        "    # Focus City to Fulfillment Center\n",
        "    ('Leipzig', 'Paris'): 0.5, ('Leipzig', 'Cologne'): 0.5, ('Leipzig', 'Hanover'): 0.5, ('Leipzig', 'Bangalore'): 1.5,\n",
        "    ('Leipzig', 'Coimbatore'): 1.5, ('Leipzig', 'Delhi'): 1.5, ('Leipzig', 'Mumbai'): 1.5, ('Leipzig', 'Cagliari'): 0.5,\n",
        "    ('Leipzig', 'Catania'): 0.5, ('Leipzig', 'Milan'): 0.5, ('Leipzig', 'Rome'): 0.5, ('Leipzig', 'Katowice'): 0.5,\n",
        "    ('Leipzig', 'Barcelona'): 0.5, ('Leipzig', 'Madrid'): 0.5, ('Leipzig', 'Castle Donington'): 0.5, ('Leipzig', 'London'): 0.75,\n",
        "    ('Leipzig', 'Hartford'): 1.5, ('Leipzig', 'Baltimore'): 1.5, ('Leipzig', 'Manchester'): 1.5, ('Leipzig', 'New York'): 1.6,\n",
        "    ('Leipzig', 'Allentown'): 1.5, ('Hyderabad', 'Paris'): 1.1, ('Hyderabad', 'Cologne'): 1.0, ('Hyderabad', 'Hanover'): 1.0,\n",
        "    ('Hyderabad', 'Bangalore'): 0.5, ('Hyderabad', 'Coimbatore'): 0.5, ('Hyderabad', 'Delhi'): 0.5, ('Hyderabad', 'Mumbai'): 0.5,\n",
        "    ('Hyderabad', 'Cagliari'): 1.0, ('Hyderabad', 'Catania'): 1.0, ('Hyderabad', 'Milan'): 1.0, ('Hyderabad', 'Rome'): 1.1,\n",
        "    ('Hyderabad', 'Katowice'): 1.0, ('Hyderabad', 'Barcelona'): 1.0, ('Hyderabad', 'Madrid'): 1.1, ('Hyderabad', 'London'): 1.1,\n",
        "    ('San Bernardino', 'Mobile'): 0.5, ('San Bernardino', 'Anchorage'): 0.7, ('San Bernardino', 'Fairbanks'): 0.7, ('San Bernardino', 'Phoenix'): 0.5,\n",
        "    ('San Bernardino', 'Sacramento'): 0.5, ('San Bernardino', 'San Francisco'): 0.5, ('San Bernardino', 'Stockton'): 0.5, ('San Bernardino', 'Denver'): 0.5,\n",
        "    ('San Bernardino', 'Hartford'): 0.5, ('San Bernardino', 'Miami'): 0.7, ('San Bernardino', 'Lakeland'): 0.7, ('San Bernardino', 'Tampa'): 0.7,\n",
        "    ('San Bernardino', 'Atlanta'): 0.6, ('San Bernardino', 'Honolulu'): 0.5, ('San Bernardino', 'Kahului/Maui'): 0.5, ('San Bernardino', 'Kona'): 0.5,\n",
        "    ('San Bernardino', 'Chicago'): 0.5, ('San Bernardino', 'Rockford'): 0.5, ('San Bernardino', 'Fort Wayne'): 0.5, ('San Bernardino', 'South Bend'): 0.5,\n",
        "    ('San Bernardino', 'Des Moines'): 0.5, ('San Bernardino', 'Wichita'): 0.5, ('San Bernardino', 'New Orleans'): 0.5, ('San Bernardino', 'Baltimore'): 0.7,\n",
        "    ('San Bernardino', 'Minneapolis'): 0.5, ('San Bernardino', 'Kansas City'): 0.5, ('San Bernardino', 'St. Louis'): 0.5, ('San Bernardino', 'Omaha'): 0.5,\n",
        "    ('San Bernardino', 'Manchester'): 0.7, ('San Bernardino', 'Albuquerque'): 0.5, ('San Bernardino', 'New York'): 0.7, ('San Bernardino', 'Charlotte'): 0.7,\n",
        "    ('San Bernardino', 'Toledo'): 0.5, ('San Bernardino', 'Wilmington'): 0.7, ('San Bernardino', 'Portland'): 0.5, ('San Bernardino', 'Allentown'): 0.7,\n",
        "    ('San Bernardino', 'Pittsburgh'): 0.6, ('San Bernardino', 'San Juan'): 1.0, ('San Bernardino', 'Nashville'): 0.5, ('San Bernardino', 'Austin'): 0.5,\n",
        "    ('San Bernardino', 'Dallas'): 0.5, ('San Bernardino', 'Houston'): 0.5, ('San Bernardino', 'San Antonio'): 0.5, ('San Bernardino', 'Richmond'): 0.7,\n",
        "    ('San Bernardino', 'Seattle/Tacoma'): 0.5, ('San Bernardino', 'Spokane'): 0.5\n",
        "}"
      ],
      "metadata": {
        "id": "j6U9r0Eklybs"
      },
      "execution_count": 14,
      "outputs": []
    },
    {
      "cell_type": "markdown",
      "source": [
        "The code cell above defines all the data needed for each hub, focus city, and fulfillment center, including capacities and distribution costs."
      ],
      "metadata": {
        "id": "hnQGAc-4SsYp"
      }
    },
    {
      "cell_type": "code",
      "source": [
        "# --- Problem initialization ---\n",
        "# Create the linear programming problem\n",
        "# Resource: (PuLP Documentation - A Transportation Problem)\n",
        "prob = pulp.LpProblem(\"Amazon_Air_Cargo_Optimization\", pulp.LpMinimize)"
      ],
      "metadata": {
        "id": "760psIY_0TT2"
      },
      "execution_count": 15,
      "outputs": []
    },
    {
      "cell_type": "markdown",
      "source": [
        "The code above initializes the Linear Programming solver model from the PuLP library, set to find the optimal minimum."
      ],
      "metadata": {
        "id": "aIH4lwYNS0Yp"
      }
    },
    {
      "cell_type": "code",
      "source": [
        "# --- Decision Variables ---\n",
        "# x_ij, y_ik, z_jk\n",
        "\n",
        "# x_ij: hub i to focus city j\n",
        "# Create tuples of valid routes for x\n",
        "routes_x = [(h, fc) for h in hubs for fc in focus_cities if (h, fc) in costs]\n",
        "x = pulp.LpVariable.dicts(\"Shipment_Hub_to_Focus_City\", routes_x, lowBound=0, cat='Continuous')\n",
        "\n",
        "# y_ik: hub i to fulfillment center k\n",
        "# Create tuples of valid routes for y\n",
        "routes_y = [(h, c) for h in hubs for c in centers if (h, c) in costs]\n",
        "y = pulp.LpVariable.dicts(\"Shipment_Hub_to_Fulfillment_Center\", routes_y, lowBound=0, cat='Continuous')\n",
        "\n",
        "# z_jk: focus city j to fulfillment center k\n",
        "# Create tuples of valid routes for z\n",
        "routes_z = [(fc, c) for fc in focus_cities for c in centers if (fc, c) in costs]\n",
        "z = pulp.LpVariable.dicts(\"Shipment_Focus_to_Fulfillment_Center\", routes_z, lowBound=0, cat='Continuous')"
      ],
      "metadata": {
        "id": "SK2BfuQe1Oyi"
      },
      "execution_count": 16,
      "outputs": []
    },
    {
      "cell_type": "markdown",
      "source": [
        "The code above programmatically defines the constraints."
      ],
      "metadata": {
        "id": "zNqC43JgS_dc"
      }
    },
    {
      "cell_type": "code",
      "source": [
        "# --- Objective function ---\n",
        "prob += (\n",
        "    pulp.lpSum([x[route] * costs[route] for route in routes_x]) +\n",
        "    pulp.lpSum([y[route] * costs[route] for route in routes_y]) +\n",
        "    pulp.lpSum([z[route] * costs[route] for route in routes_z]),\n",
        "    \"Total_Transportation_Cost\",\n",
        ")"
      ],
      "metadata": {
        "id": "xmsJuVVH4Noh"
      },
      "execution_count": 17,
      "outputs": []
    },
    {
      "cell_type": "markdown",
      "source": [
        "The code above programmatically adds the objective function to the initialized problem solver."
      ],
      "metadata": {
        "id": "Qi_uMmTITIt6"
      }
    },
    {
      "cell_type": "code",
      "source": [
        "# --- Constraints ---\n",
        "# 1. Hub Capacity Constraints\n",
        "for h in hubs:\n",
        "    prob += (\n",
        "        pulp.lpSum([x[(h, fc)] for fc in focus_cities if (h, fc) in routes_x]) +\n",
        "        pulp.lpSum([y[(h, c)] for c in centers if (h, c) in routes_y])\n",
        "        <= hub_capacities[h],\n",
        "        f\"Hub_Capacity_{h}\",\n",
        "    )\n",
        "\n",
        "# 2. Focus City Capacity Constraints (Inbound)\n",
        "for fc in focus_cities:\n",
        "    prob += (\n",
        "        pulp.lpSum([x[(h, fc)] for h in hubs if (h, fc) in routes_x])\n",
        "        <= focus_city_capacities[fc],\n",
        "        f\"Focus_City_Capacity_Inbound_{fc}\",\n",
        "    )\n",
        "\n",
        "# 3. Flow Balance at Focus Cities (Outbound must equal inbound)\n",
        "for fc in focus_cities:\n",
        "    prob += (\n",
        "        pulp.lpSum([z[(fc, c)] for c in centers if (fc, c) in routes_z])\n",
        "        == pulp.lpSum([x[(h, fc)] for h in hubs if (h, fc) in routes_x]),\n",
        "        f\"Flow_Balance_{fc}\",\n",
        "    )\n",
        "\n",
        "# 4. Fulfillment Center Demand Constraints\n",
        "for c in centers:\n",
        "    prob += (\n",
        "        pulp.lpSum([y[(h, c)] for h in hubs if (h, c) in routes_y]) +\n",
        "        pulp.lpSum([z[(fc, c)] for fc in focus_cities if (fc, c) in routes_z])\n",
        "        == center_demands[c],\n",
        "        f\"Demand_Satisfaction_{c.replace(' ', '_').replace('/', '_')}\",\n",
        "    )"
      ],
      "metadata": {
        "id": "UPzcUdGs5v2U"
      },
      "execution_count": 18,
      "outputs": []
    },
    {
      "cell_type": "markdown",
      "source": [
        "The code above adds the identified constraints to the initialized problem solver."
      ],
      "metadata": {
        "id": "QM_q8ZdiTQHG"
      }
    },
    {
      "cell_type": "markdown",
      "source": [
        "### A1. Demonstrate Solver Solution"
      ],
      "metadata": {
        "id": "12Trkl-3j9fX"
      }
    },
    {
      "cell_type": "markdown",
      "source": [
        "> Demonstrate that the solver provided a solution to the optimization problem."
      ],
      "metadata": {
        "id": "ZAXF5e77kS41"
      }
    },
    {
      "cell_type": "code",
      "source": [
        "# --- Solve the Problem ---\n",
        "# The problem is solved using PuLP's default solver (CBC)\n",
        "prob.solve()\n",
        "\n",
        "# Display the Results\n",
        "print(\"=\" * 80)\n",
        "print(f\"Optimization Solution\")\n",
        "print(\"=\" * 80)\n",
        "print(f\"Status: {pulp.LpStatus[prob.status]}\")\n",
        "print(f\"Total Cost: ${pulp.value(prob.objective):,.2f}\")"
      ],
      "metadata": {
        "colab": {
          "base_uri": "https://localhost:8080/"
        },
        "id": "O6FyEIITZCHg",
        "outputId": "4d1552f1-d9d1-4161-ab8e-527ec1d1cce2"
      },
      "execution_count": 19,
      "outputs": [
        {
          "output_type": "stream",
          "name": "stdout",
          "text": [
            "================================================================================\n",
            "Optimization Solution\n",
            "================================================================================\n",
            "Status: Optimal\n",
            "Total Cost: $199,476.25\n"
          ]
        }
      ]
    },
    {
      "cell_type": "markdown",
      "source": [
        "The code above uses attributes generated from the problem solver to demonstrate that we have returned an optimal status and that the total cost of shipments equals **$199,476.25**."
      ],
      "metadata": {
        "id": "ku7z1McJTZkT"
      }
    },
    {
      "cell_type": "markdown",
      "source": [
        "## B. Output Analysis"
      ],
      "metadata": {
        "id": "X81jV7Maj_pY"
      }
    },
    {
      "cell_type": "markdown",
      "source": [
        "> Analyze the output of your model to demonstrate that the solution satisfies the requirements of the problem."
      ],
      "metadata": {
        "id": "odetB7x5kU11"
      }
    },
    {
      "cell_type": "code",
      "source": [
        "# --- Solve the Problem ---\n",
        "# The problem is solved using PuLP's default solver (CBC)\n",
        "prob.solve()\n",
        "\n",
        "# Display the Results\n",
        "print(f\"Status: {pulp.LpStatus[prob.status]}\")\n",
        "print(f\"Total Cost: ${pulp.value(prob.objective):,.2f}\")"
      ],
      "metadata": {
        "colab": {
          "base_uri": "https://localhost:8080/"
        },
        "id": "q3epgzKrbtNu",
        "outputId": "416df3a6-e29b-4f73-e6bd-2860958b9435"
      },
      "execution_count": 23,
      "outputs": [
        {
          "output_type": "stream",
          "name": "stdout",
          "text": [
            "Status: Optimal\n",
            "Total Cost: $199,476.25\n"
          ]
        }
      ]
    },
    {
      "cell_type": "code",
      "source": [
        "# --- Display the Plan ---\n",
        "\n",
        "print(\"\\nOptimal Shipping Plan\")\n",
        "print(\"-\" * 80)\n",
        "\n",
        "for i, j in sorted(x.keys()):\n",
        "    if x[i, j].varValue > 0:\n",
        "        print(f\"Hub {i} to Focus City {j}: {x[i, j].varValue:,.0f} tons\")\n",
        "for i, k in sorted(y.keys()):\n",
        "    if y[i, k].varValue > 0:\n",
        "        print(f\"Hub {i} to Center {k}: {y[i, k].varValue:,.0f} tons\")\n",
        "for j, k in sorted(z.keys()):\n",
        "    if z[j, k].varValue > 0:\n",
        "        print(f\"Focus City {j} to Center {k}: {z[j, k].varValue:,.0f} tons\")"
      ],
      "metadata": {
        "colab": {
          "base_uri": "https://localhost:8080/"
        },
        "id": "K56pcdNqU1iF",
        "outputId": "6695eccb-6db5-4e55-a1f5-5e162943cb4b"
      },
      "execution_count": 24,
      "outputs": [
        {
          "output_type": "stream",
          "name": "stdout",
          "text": [
            "\n",
            "Optimal Shipping Plan\n",
            "--------------------------------------------------------------------------------\n",
            "Hub CVG to Focus City Leipzig: 43,470 tons\n",
            "Hub AFW to Center Albuquerque: 450 tons\n",
            "Hub AFW to Center Allentown: 420 tons\n",
            "Hub AFW to Center Anchorage: 175 tons\n",
            "Hub AFW to Center Atlanta: 3,000 tons\n",
            "Hub AFW to Center Austin: 975 tons\n",
            "Hub AFW to Center Charlotte: 900 tons\n",
            "Hub AFW to Center Chicago: 5,100 tons\n",
            "Hub AFW to Center Des Moines: 300 tons\n",
            "Hub AFW to Center Fairbanks: 38 tons\n",
            "Hub AFW to Center Fort Wayne: 200 tons\n",
            "Hub AFW to Center Hartford: 540 tons\n",
            "Hub AFW to Center Honolulu: 500 tons\n",
            "Hub AFW to Center Houston: 3,300 tons\n",
            "Hub AFW to Center Kahului/Maui: 16 tons\n",
            "Hub AFW to Center Kansas City: 975 tons\n",
            "Hub AFW to Center Kona: 63 tons\n",
            "Hub AFW to Center Lakeland: 185 tons\n",
            "Hub AFW to Center Manchester: 100 tons\n",
            "Hub AFW to Center Miami: 3,400 tons\n",
            "Hub AFW to Center Minneapolis: 1,700 tons\n",
            "Hub AFW to Center Nashville: 650 tons\n",
            "Hub AFW to Center New Orleans: 550 tons\n",
            "Hub AFW to Center Phoenix: 2,400 tons\n",
            "Hub AFW to Center Pittsburgh: 1,000 tons\n",
            "Hub AFW to Center Portland: 1,200 tons\n",
            "Hub AFW to Center Richmond: 600 tons\n",
            "Hub AFW to Center Rockford: 172 tons\n",
            "Hub AFW to Center San Antonio: 1,100 tons\n",
            "Hub AFW to Center San Francisco: 1,075 tons\n",
            "Hub AFW to Center San Juan: 1,100 tons\n",
            "Hub AFW to Center Seattle/Tacoma: 2,000 tons\n",
            "Hub AFW to Center South Bend: 173 tons\n",
            "Hub AFW to Center Spokane: 260 tons\n",
            "Hub AFW to Center St. Louis: 1,200 tons\n",
            "Hub AFW to Center Stockton: 240 tons\n",
            "Hub AFW to Center Tampa: 1,600 tons\n",
            "Hub AFW to Center Toledo: 290 tons\n",
            "Hub AFW to Center Wilmington: 150 tons\n",
            "Hub CVG to Center Baltimore: 1,300 tons\n",
            "Hub CVG to Center Barcelona: 2,800 tons\n",
            "Hub CVG to Center Cagliari: 90 tons\n",
            "Hub CVG to Center Castle Donington: 30 tons\n",
            "Hub CVG to Center Catania: 185 tons\n",
            "Hub CVG to Center Cologne: 640 tons\n",
            "Hub CVG to Center Dallas: 3,300 tons\n",
            "Hub CVG to Center Denver: 1,500 tons\n",
            "Hub CVG to Center Hanover: 180 tons\n",
            "Hub CVG to Center Katowice: 170 tons\n",
            "Hub CVG to Center London: 6,700 tons\n",
            "Hub CVG to Center Los Angeles: 7,200 tons\n",
            "Hub CVG to Center Madrid: 3,700 tons\n",
            "Hub CVG to Center Milan: 800 tons\n",
            "Hub CVG to Center Mobile: 190 tons\n",
            "Hub CVG to Center New York: 11,200 tons\n",
            "Hub CVG to Center Omaha: 480 tons\n",
            "Hub CVG to Center Ontario: 100 tons\n",
            "Hub CVG to Center Paris: 6,500 tons\n",
            "Hub CVG to Center Riverside: 1,200 tons\n",
            "Hub CVG to Center Rome: 1,700 tons\n",
            "Hub CVG to Center Sacramento: 1,100 tons\n",
            "Hub CVG to Center San Francisco: 825 tons\n",
            "Hub CVG to Center Wichita: 290 tons\n",
            "Focus City Leipzig to Center Bangalore: 9,100 tons\n",
            "Focus City Leipzig to Center Coimbatore: 570 tons\n",
            "Focus City Leipzig to Center Delhi: 19,000 tons\n",
            "Focus City Leipzig to Center Mumbai: 14,800 tons\n"
          ]
        }
      ]
    },
    {
      "cell_type": "markdown",
      "source": [
        "**Output Analysis**\n",
        "\n",
        "The optimization model successfully produced an optimal solution that minimizes total transportation costs while satisfying all operational constraints. The analysis below demonstrates that:\n",
        "\n",
        "1. All constraints are satisfied (hub capacities, focus city capacities, flow balance, and demand requirements)\n",
        "2. The solution properly incorporates all decision variables, constraints, and the objective function\n",
        "3. The output matches expected behavior for a cost-minimizing transportation network\n",
        "\n",
        "The solver achieved an optimal status with a minimum total cost of **$199,476.25**, representing the most efficient allocation of cargo shipments across Amazon Air's three-tier logistics network."
      ],
      "metadata": {
        "id": "K-J4tDAILFqA"
      }
    },
    {
      "cell_type": "markdown",
      "source": [
        "### B1. Satisfying Optimization Problem Constraints"
      ],
      "metadata": {
        "id": "OArG4VVWkBll"
      }
    },
    {
      "cell_type": "markdown",
      "source": [
        "> Demonstrate that the constraints of the optimization problem are satisfied."
      ],
      "metadata": {
        "id": "aEMNT73QkWkf"
      }
    },
    {
      "cell_type": "code",
      "source": [
        "# --- Constraint Verification ---\n",
        "# 1. Verify Hub Capacity Constraints\n",
        "print(\"\\n1. Hub Capacity Constraints\")\n",
        "print(\"-\"*80)\n",
        "for h in hubs:\n",
        "    outbound_to_focus = sum([x[(h, fc)].varValue for fc in focus_cities if (h, fc) in routes_x])\n",
        "    outbound_to_centers = sum([y[(h, c)].varValue for c in centers if (h, c) in routes_y])\n",
        "    total_outbound = outbound_to_focus + outbound_to_centers\n",
        "    capacity = hub_capacities[h]\n",
        "    utilization = (total_outbound / capacity) * 100\n",
        "\n",
        "    print(f\"{h}:\")\n",
        "    print(f\"  Total Outbound: {total_outbound:,.0f} tons\")\n",
        "    print(f\"  Capacity: {capacity:,.0f} tons\")\n",
        "    print(f\"  Utilization: {utilization:.2f}%\")\n",
        "    print(f\"  Satisfied: {'YES' if total_outbound <= capacity else 'NO'}\")\n",
        "    print()\n",
        "\n",
        "# 2. Verify Focus City Capacity Constraints\n",
        "print(\"\\n2. Focus City Capacity Constraints (Inbound)\")\n",
        "print(\"-\"*80)\n",
        "for fc in focus_cities:\n",
        "    inbound = sum([x[(h, fc)].varValue for h in hubs if (h, fc) in routes_x])\n",
        "    capacity = focus_city_capacities[fc]\n",
        "    utilization = (inbound / capacity) * 100 if capacity > 0 else 0\n",
        "\n",
        "    print(f\"{fc}:\")\n",
        "    print(f\"  Total Inbound: {inbound:,.0f} tons\")\n",
        "    print(f\"  Capacity: {capacity:,.0f} tons\")\n",
        "    print(f\"  Utilization: {utilization:.2f}%\")\n",
        "    print(f\"  Satisfied: {'YES' if inbound <= capacity else 'NO'}\")\n",
        "    print()\n",
        "\n",
        "# 3. Verify Flow Balance at Focus Cities\n",
        "print(\"\\n3. Flow Balance at Focus Cities\")\n",
        "print(\"-\"*80)\n",
        "for fc in focus_cities:\n",
        "    inbound = sum([x[(h, fc)].varValue for h in hubs if (h, fc) in routes_x])\n",
        "    outbound = sum([z[(fc, c)].varValue for c in centers if (fc, c) in routes_z])\n",
        "    balance = abs(inbound - outbound)\n",
        "\n",
        "    print(f\"{fc}:\")\n",
        "    print(f\"  Inbound: {inbound:,.0f} tons\")\n",
        "    print(f\"  Outbound: {outbound:,.0f} tons\")\n",
        "    print(f\"  Balance Difference: {balance:.6f} tons\")\n",
        "    print(f\"  Satisfied: {'YES' if balance < 0.01 else 'NO'}\")\n",
        "    print()\n",
        "\n",
        "# 4. Verify Fulfillment Center Demand Constraints\n",
        "print(\"\\n4. Fulfillment Center Demand Satisfaction\")\n",
        "print(\"-\"*80)\n",
        "demand_satisfied_count = 0\n",
        "for c in centers:\n",
        "    from_hubs = sum([y[(h, c)].varValue for h in hubs if (h, c) in routes_y])\n",
        "    from_focus = sum([z[(fc, c)].varValue for fc in focus_cities if (fc, c) in routes_z])\n",
        "    total_received = from_hubs + from_focus\n",
        "    demand = center_demands[c]\n",
        "    difference = abs(total_received - demand)\n",
        "\n",
        "    if difference < 0.01:\n",
        "        demand_satisfied_count += 1\n",
        "\n",
        "print(f\"Centers with Demand Satisfied: {demand_satisfied_count} / {len(centers)}\")\n",
        "print(f\"Satisfaction Rate: {(demand_satisfied_count/len(centers))*100:.1f}%\")\n",
        "\n",
        "# Show a few examples\n",
        "print(\"\\nSample Verification (first 5 centers):\")\n",
        "for i, c in enumerate(centers[:5]):\n",
        "    from_hubs = sum([y[(h, c)].varValue for h in hubs if (h, c) in routes_y])\n",
        "    from_focus = sum([z[(fc, c)].varValue for fc in focus_cities if (fc, c) in routes_z])\n",
        "    total_received = from_hubs + from_focus\n",
        "    demand = center_demands[c]\n",
        "\n",
        "    print(f\"  {c}: Received {total_received:,.0f} tons, Demand {demand:,.0f} tons - {'Yes' if abs(total_received - demand) < 0.01 else 'No'}\")\n",
        "\n",
        "# 5. Verify Non-negativity Constraints\n",
        "print(\"\\n5. Non-negativity Constraints\")\n",
        "print(\"-\"*80)\n",
        "negative_count = 0\n",
        "total_variables = len(routes_x) + len(routes_y) + len(routes_z)\n",
        "\n",
        "for route in routes_x:\n",
        "    if x[route].varValue < 0:\n",
        "        negative_count += 1\n",
        "\n",
        "for route in routes_y:\n",
        "    if y[route].varValue < 0:\n",
        "        negative_count += 1\n",
        "\n",
        "for route in routes_z:\n",
        "    if z[route].varValue < 0:\n",
        "        negative_count += 1\n",
        "\n",
        "print(f\"Total Decision Variables: {total_variables}\")\n",
        "print(f\"Variables with Negative Values: {negative_count}\")\n",
        "print(f\"Non-negativity Satisfied: {'YES - All variables are non-negative' if negative_count == 0 else 'NO'}\")"
      ],
      "metadata": {
        "colab": {
          "base_uri": "https://localhost:8080/"
        },
        "id": "eSI-TZdjXH5u",
        "outputId": "30272565-2100-43ab-910c-d6d099454c46"
      },
      "execution_count": 22,
      "outputs": [
        {
          "output_type": "stream",
          "name": "stdout",
          "text": [
            "\n",
            "1. Hub Capacity Constraints\n",
            "--------------------------------------------------------------------------------\n",
            "CVG:\n",
            "  Total Outbound: 95,650 tons\n",
            "  Capacity: 95,650 tons\n",
            "  Utilization: 100.00%\n",
            "  Satisfied: YES\n",
            "\n",
            "AFW:\n",
            "  Total Outbound: 38,097 tons\n",
            "  Capacity: 44,350 tons\n",
            "  Utilization: 85.90%\n",
            "  Satisfied: YES\n",
            "\n",
            "\n",
            "2. Focus City Capacity Constraints (Inbound)\n",
            "--------------------------------------------------------------------------------\n",
            "Leipzig:\n",
            "  Total Inbound: 43,470 tons\n",
            "  Capacity: 85,000 tons\n",
            "  Utilization: 51.14%\n",
            "  Satisfied: YES\n",
            "\n",
            "Hyderabad:\n",
            "  Total Inbound: 0 tons\n",
            "  Capacity: 19,000 tons\n",
            "  Utilization: 0.00%\n",
            "  Satisfied: YES\n",
            "\n",
            "San Bernardino:\n",
            "  Total Inbound: 0 tons\n",
            "  Capacity: 36,000 tons\n",
            "  Utilization: 0.00%\n",
            "  Satisfied: YES\n",
            "\n",
            "\n",
            "3. Flow Balance at Focus Cities\n",
            "--------------------------------------------------------------------------------\n",
            "Leipzig:\n",
            "  Inbound: 43,470 tons\n",
            "  Outbound: 43,470 tons\n",
            "  Balance Difference: 0.000000 tons\n",
            "  Satisfied: YES\n",
            "\n",
            "Hyderabad:\n",
            "  Inbound: 0 tons\n",
            "  Outbound: 0 tons\n",
            "  Balance Difference: 0.000000 tons\n",
            "  Satisfied: YES\n",
            "\n",
            "San Bernardino:\n",
            "  Inbound: 0 tons\n",
            "  Outbound: 0 tons\n",
            "  Balance Difference: 0.000000 tons\n",
            "  Satisfied: YES\n",
            "\n",
            "\n",
            "4. Fulfillment Center Demand Satisfaction\n",
            "--------------------------------------------------------------------------------\n",
            "Centers with Demand Satisfied: 65 / 65\n",
            "Satisfaction Rate: 100.0%\n",
            "\n",
            "Sample Verification (first 5 centers):\n",
            "  Paris: Received 6,500 tons, Demand 6,500 tons - Yes\n",
            "  Cologne: Received 640 tons, Demand 640 tons - Yes\n",
            "  Hanover: Received 180 tons, Demand 180 tons - Yes\n",
            "  Bangalore: Received 9,100 tons, Demand 9,100 tons - Yes\n",
            "  Coimbatore: Received 570 tons, Demand 570 tons - Yes\n",
            "\n",
            "5. Non-negativity Constraints\n",
            "--------------------------------------------------------------------------------\n",
            "Total Decision Variables: 191\n",
            "Variables with Negative Values: 0\n",
            "Non-negativity Satisfied: YES - All variables are non-negative\n"
          ]
        }
      ]
    },
    {
      "cell_type": "markdown",
      "source": [
        "The verification above demonstrates that **all five constraint types are satisfied**:\n",
        "\n",
        "1. **Hub Capacity Constraints**: Both CVG and AFW operate within their capacity limits\n",
        "2. **Focus City Capacity Constraints**: All focus cities receive shipments within their inbound capacity limits\n",
        "3. **Flow Balance**: Each focus city's inbound shipments exactly equal outbound shipments (conservation of flow)\n",
        "4. **Demand Satisfaction**: All 65 fulfillment centers receive exactly their required demand\n",
        "5. **Non-negativity**: All decision variables have non-negative values\n",
        "\n",
        "This confirms the solution is feasible and valid."
      ],
      "metadata": {
        "id": "yEE2t7uNXzre"
      }
    },
    {
      "cell_type": "markdown",
      "source": [
        "### B2. Decision Variables, Constraints, and Objective Function"
      ],
      "metadata": {
        "id": "3cirxdVikEmj"
      }
    },
    {
      "cell_type": "markdown",
      "source": [
        "> Demonstrate that the solution includes decision variables, constraints, and the objective function."
      ],
      "metadata": {
        "id": "8chuI2zCkYNM"
      }
    },
    {
      "cell_type": "markdown",
      "source": [
        "The solution properly incorporates all three required components of a linear programming model:\n",
        "\n",
        "**Decision Variables:**\n",
        "\n",
        "The model includes three sets of continuous decision variables representing shipment quantities:\n",
        "\n",
        "- **x_{ij}**: Shipments from hub *i* to focus city *j*\n",
        "  - Example routes: CVG to Leipzig (43,470 tons)\n",
        "  - Total variables: 3 valid routes (some hub-focus combinations disallowed)\n",
        "\n",
        "- **y_{ik}**: Direct shipments from hub *i* to fulfillment center *k*\n",
        "  - Example routes: CVG to New York (11,200 tons), AFW to Houston (3,300 tons)\n",
        "  - Total variables: 126 valid routes (65 centers × 2 hubs, minus disallowed routes)\n",
        "\n",
        "- **z_{jk}**: Shipments from focus city *j* to fulfillment center *k*\n",
        "  - Example routes: Leipzig to Delhi (19,000 tons), Leipzig → Mumbai (14,800 tons)\n",
        "  - Total variables: 60 valid routes (some focus-center combinations disallowed)\n",
        "\n",
        "All decision variables are continuous (allowing fractional tons) and non-negative, as required for transportation quantities.\n",
        "\n",
        "**Constraints:**\n",
        "\n",
        "The model enforces five types of constraints to ensure operational feasibility:\n",
        "\n",
        "1. **Hub Capacity Constraints** (2 constraints): Total outbound shipments from each hub cannot exceed capacity\n",
        "2. **Focus City Capacity Constraints** (3 constraints): Total inbound shipments to each focus city cannot exceed capacity\n",
        "3. **Flow Balance Constraints** (3 constraints): Inbound and outbound flow must balance at each focus city\n",
        "4. **Demand Constraints** (65 constraints): Each fulfillment center must receive exactly its required demand\n",
        "5. **Non-negativity Constraints** (189 constraints): All shipment quantities must be ≥ 0\n",
        "\n",
        "Total: **73 explicit constraints** plus non-negativity bounds\n",
        "\n",
        "**Objective Function:**\n",
        "\n",
        "The objective function minimizes total transportation cost by summing the cost of all shipments:\n",
        "\n",
        "**Minimize:** Σ(cost * quantity) across all three route types\n",
        "```\n",
        "Total Cost = Σ c_ij * x_ij + Σ c_ik * y_ik + Σ c_jk * z_jk\n",
        "```\n",
        "\n",
        "The optimal solution achieves a minimum cost of **$199,476.25**, representing the most cost-effective distribution plan that satisfies all constraints."
      ],
      "metadata": {
        "id": "OFU_3YJLX5fI"
      }
    },
    {
      "cell_type": "markdown",
      "source": [
        "### B3. Expected Output Solution"
      ],
      "metadata": {
        "id": "jnRHolYYkHjF"
      }
    },
    {
      "cell_type": "markdown",
      "source": [
        "> Explain why the solution that your code outputs matches your expected output."
      ],
      "metadata": {
        "id": "yMWxmFiDkZDW"
      }
    },
    {
      "cell_type": "markdown",
      "source": [
        "The solution output matches expected behavior for several key reasons:\n",
        "\n",
        "**Cost-Minimizing Route Selection**\n",
        "\n",
        "The solver prioritized lower-cost routes wherever possible:\n",
        "* Leipzig handles all European/Indian shipments through hub-to-focus city routing rather than expensive direct routes.\n",
        "* San Bernardino is not utilized, likely because direct hub-to-fulfillment center routes are more cost-effective than adding a focus city intermediary.\n",
        "* Direct routes from AFW to Texas use the lowest available rate.\n",
        "\n",
        "**Hub Utilization Patterns**\n",
        "\n",
        "Hub usage aligns with geographic efficiency:\n",
        "\n",
        "* CVG handles most European destinations and long-distance domestic routes.\n",
        "* AFW focuses on western and southern U.S. routes\n",
        "* Capacity slack at AFW provides operational flexibility.\n",
        "\n",
        "**Focus City Behavior**\n",
        "\n",
        "Only Leipzig is used, which is expected because:\n",
        "\n",
        "* High-demand Indian markets are only accessible through Leipzig to India routing.\n",
        "* Hyderabad is not used because Indian fulfillment centers (Delhi, Mumbai, Bangalore, Coimbatore) are served directly from Leipzig, bypassing the Hyderabad focus city entirely.\n",
        "* San Bernardino is bypassed because direct hub-to-center routes within the U.S. are cheaper than adding an intermediary focus city.\n",
        "* Leipzig serves as the sole international gateway, consolidating all non-U.S. shipments\n",
        "\n",
        "**Mathematical Optimality**\n",
        "\n",
        "The \"Optimal\" solver status confirms this is the best solution:\n",
        "\n",
        "* The simplex algorithm explored the feasible region and confirmed no lower-cost solution exists.\n",
        "* All 73 constraints are satisfied with exact precision (demand equations are balanced, flow balance was achieved at all focus cities)\n",
        "* The solution demonstrates efficient resource utilization: CVG at maximum capacity, AFW with operational buffer, and Leipzig at more moderate utilization with room for operational growth.\n",
        "\n",
        "**Real-World Reasonableness**\n",
        "\n",
        "The solution exhibits practical logistics patterns:\n",
        "\n",
        "* Geographic specialization:\n",
        "  * CVG handles all international shipments plus eastern U.S. centers.\n",
        "  * AFW handles western and southern U.S. centers.\n",
        "* Capacity optimization: CVG is fully utilized, suggesting it's the most cost-effective hub and a potential expansion target.\n",
        "* Focus city efficiency: Only 1 of 3 focus cities is needed, with Hyderabad and San Bernardino offering no cost advantage over direct routing.\n",
        "* Two-tier routing for international shipments, direct routing for domestic shipments: Leipzig enables cost-effective European/Indian distribution while U.S. centers are served directly.\n",
        "\n",
        "**Final Insights**\n",
        "\n",
        "The model reveals that direct hub-to-center routing is optimal for domestic U.S. shipments, while hub to Leipzig to center routing is optimal for international destinations. Neither Hyderabad or San Bernardino provide sufficient cost savings to justify their use as intermediaty shipment locations, given the available direct routing options at competitive rates.\n",
        "\n",
        "This output represents the mathematically optimal and operationally practical solution to Amazon Air's distribution problem, achieving a minimum cost of **$199,476.25** while satisfying all demand and capacity constraints."
      ],
      "metadata": {
        "id": "faEnMY37Fgkm"
      }
    },
    {
      "cell_type": "markdown",
      "source": [
        "## C. Reflection"
      ],
      "metadata": {
        "id": "98kV3iF1kJXv"
      }
    },
    {
      "cell_type": "markdown",
      "source": [
        "> Provide a reflection on how the development of your approach matched your expectations of the process."
      ],
      "metadata": {
        "id": "BZpN5wp7kbU6"
      }
    },
    {
      "cell_type": "markdown",
      "source": [
        "The development of this optimization solution closely aligned with my initial expectations in terms of the systematic methodology, but revealed several surprises regarding problem complexity and solver behavior that deepened my understanding of linear programming applications.\n",
        "\n",
        "Going into this project, I anticipated that the primary challenge would be correctly translating the mathematical model from Task 2 into executable code. I expected the PuLP library to handle the optimization mechanics automatically once the problem was properly formulated. My assumption was that if the mathematical representation was correct, the coding process would be relatively straightforward—define variables, add constraints, specify the objective function, and solve. I also expected the solution to utilize all three focus cities in some capacity, assuming that Amazon would have designed their network with all facilities serving active roles. The concept of a three-tier hierarchical network suggested balanced utilization across all tiers.\n",
        "\n",
        "The translation from mathematical notation to Python code proved more nuanced than anticipated. While PuLP's syntax is intuitive, several aspects required careful consideration. Creating the route tuples and filtering for valid combinations by excluding \"N/A\" entries required more attention than expected. I had to ensure that decision variables were only created for allowable routes, which meant carefully constructing the `routes_x`, `routes_y`, and `routes_z` lists by checking against the cost dictionary. Writing the constraints involved understanding PuLP's `lpSum()` function and how to properly iterate through filtered route combinations. The flow balance constraint at focus cities was particularly interesting, as ensuring that inbound exactly equals outbound required precise indexing of the decision variable dictionaries. Initially, I wasn't certain the model was correct until I saw the \"Optimal\" status, and the verification code in Section B1 became crucial for building confidence that the solution was not just mathematically optimal, but also operationally valid.\n",
        "\n",
        "Several outcomes challenged my initial assumptions. The most surprising result was that only Leipzig is used, while Hyderabad and San Bernardino remain completely idle at 0% utilization. This revealed that hierarchical networks don't necessarily require all tiers to be active—sometimes direct routing is more cost-effective than adding intermediary stops. This has real-world implications for Amazon's infrastructure planning. Additionally, CVG operating at exactly 100% capacity while AFW has 14% spare capacity suggests that the network design might benefit from capacity rebalancing or that CVG handles fundamentally different, higher-demand routes. This wasn't immediately obvious from the mathematical formulation alone.\n",
        "\n",
        "The solver's performance also exceeded my expectations. Despite having 191 decision variables and 73 constraints, it found the optimal solution almost instantly. This demonstrated the power of the simplex algorithm for transportation problems and reinforced the efficiency of modern optimization solvers. Furthermore, the output patterns revealed clear geographic routing logic that made business sense. All European and Indian shipments route through Leipzig, while all U.S. shipments go direct from hubs to centers. The mathematical optimization naturally discovered practical operational strategies without any explicit geographic rules being programmed into the model.\n",
        "\n",
        "This project reinforced several key lessons about optimization modeling. The quality of the code output directly reflected the quality of the mathematical model from Task 2. Time spent carefully defining constraints and the objective function in mathematical notation paid off during implementation. Writing the constraint verification code was not just about meeting assignment requirements—it was crucial for validating the solution. In a real-world setting, I would never trust optimization output without thorough verification. The solver's decision to leave two focus cities unused wasn't something I would have predicted through intuition alone, which highlights the value of mathematical optimization over intuitive human decision-making.\n",
        "\n",
        "PuLP proved to be an excellent choice for this problem. Its readable syntax and robust CBC solver handled the problem efficiently. However, I also learned that understanding the underlying linear programming theory is essential—the tool is only as good as the formulation you provide. The systematic workflow of formulate, code, solve, and verify matched my expectations, but the specific solution and the ease of implementation once properly structured exceeded them.\n",
        "\n",
        "Overall, the development process was mostly aligned with my initial expectations and had only a few surprising discoveries. The process reinforced that optimization is both an art, in terms of formulating the problem correctly, and a science, in terms of applying proven algorithms. While the mathematics and coding were important, the most valuable skill developed was the ability to interpret optimization results in the context of real-world operations and use verification techniques to build confidence in the solution."
      ],
      "metadata": {
        "id": "SBMcoclPL2Vq"
      }
    },
    {
      "cell_type": "markdown",
      "source": [
        "## D. Sources"
      ],
      "metadata": {
        "id": "M9Xtf38VkKl3"
      }
    },
    {
      "cell_type": "markdown",
      "source": [
        "> Acknowledge sources, using in-text citations and references, for content that is quoted, paraphrased, or summarized.\n",
        "\n"
      ],
      "metadata": {
        "id": "izUT_11zkctd"
      }
    },
    {
      "cell_type": "markdown",
      "source": [
        "* [PuLP Documentation - A Transportation Problem](https://coin-or.github.io/pulp/CaseStudies/a_transportation_problem.html)\n",
        "* WGU Course Materials"
      ],
      "metadata": {
        "id": "HPs-aio3kLgN"
      }
    },
    {
      "cell_type": "code",
      "source": [],
      "metadata": {
        "id": "lqCTs2Ls1HLB"
      },
      "execution_count": 22,
      "outputs": []
    }
  ]
}