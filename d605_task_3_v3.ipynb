{
  "nbformat": 4,
  "nbformat_minor": 0,
  "metadata": {
    "colab": {
      "provenance": [],
      "toc_visible": true,
      "include_colab_link": true
    },
    "kernelspec": {
      "name": "python3",
      "display_name": "Python 3"
    },
    "language_info": {
      "name": "python"
    }
  },
  "cells": [
    {
      "cell_type": "markdown",
      "metadata": {
        "id": "view-in-github",
        "colab_type": "text"
      },
      "source": [
        "<a href=\"https://colab.research.google.com/github/smmurdock/Solve-an-Optimization-Problem/blob/main/d605_task_3_v3.ipynb\" target=\"_parent\"><img src=\"https://colab.research.google.com/assets/colab-badge.svg\" alt=\"Open In Colab\"/></a>"
      ]
    },
    {
      "cell_type": "markdown",
      "source": [
        "# D605 Task 3 - Identification of the Objective Function and Constraints"
      ],
      "metadata": {
        "id": "rPDBjDsRj1m_"
      }
    },
    {
      "cell_type": "markdown",
      "source": [
        "## A. Optimization Problem Program"
      ],
      "metadata": {
        "id": "SwNz8Kfmj6vV"
      }
    },
    {
      "cell_type": "markdown",
      "source": [
        "> Using the mathematical representations that you developed in Task 2, write a program in either Python or R to solve the optimization problem computationally."
      ],
      "metadata": {
        "id": "NgHKGXVwkQXp"
      }
    },
    {
      "cell_type": "code",
      "source": [
        "!pip install pulp"
      ],
      "metadata": {
        "id": "sQ5Xu4Wpkg4Y",
        "colab": {
          "base_uri": "https://localhost:8080/"
        },
        "outputId": "3e7dc947-8860-4b76-f3cb-86d22b55985a"
      },
      "execution_count": 1,
      "outputs": [
        {
          "output_type": "stream",
          "name": "stdout",
          "text": [
            "Collecting pulp\n",
            "  Downloading pulp-3.3.0-py3-none-any.whl.metadata (8.4 kB)\n",
            "Downloading pulp-3.3.0-py3-none-any.whl (16.4 MB)\n",
            "\u001b[2K   \u001b[90m━━━━━━━━━━━━━━━━━━━━━━━━━━━━━━━━━━━━━━━━\u001b[0m \u001b[32m16.4/16.4 MB\u001b[0m \u001b[31m78.4 MB/s\u001b[0m eta \u001b[36m0:00:00\u001b[0m\n",
            "\u001b[?25hInstalling collected packages: pulp\n",
            "Successfully installed pulp-3.3.0\n"
          ]
        }
      ]
    },
    {
      "cell_type": "code",
      "source": [
        "import pulp\n",
        "import sys"
      ],
      "metadata": {
        "id": "f2lcFxsqk0Es"
      },
      "execution_count": 2,
      "outputs": []
    },
    {
      "cell_type": "code",
      "source": [
        "# --- Data definitions as described from \"Amazon Distribution.docx\" ---\n",
        "# Define the sets of locations\n",
        "hubs = ['CVG', 'AFW']\n",
        "focus_cities = ['Leipzig', 'Hyderabad', 'San Bernardino']\n",
        "centers = [\n",
        "    'Paris', 'Cologne', 'Hanover', 'Bangalore',\n",
        "    'Coimbatore', 'Delhi', 'Mumbai', 'Cagliari',\n",
        "    'Catania', 'Milan', 'Rome', 'Katowice',\n",
        "    'Barcelona', 'Madrid', 'Castle Donington', 'London',\n",
        "    'Mobile', 'Anchorage', 'Fairbanks', 'Phoenix',\n",
        "    'Los Angeles', 'Ontario', 'Riverside', 'Sacramento',\n",
        "    'San Francisco', 'Stockton', 'Denver', 'Hartford',\n",
        "    'Miami', 'Lakeland', 'Tampa', 'Atlanta',\n",
        "    'Honolulu', 'Kahului/Maui', 'Kona', 'Chicago',\n",
        "    'Rockford', 'Fort Wayne', 'South Bend', 'Des Moines',\n",
        "    'Wichita', 'New Orleans', 'Baltimore', 'Minneapolis',\n",
        "    'Kansas City', 'St. Louis', 'Omaha', 'Manchester',\n",
        "    'Albuquerque', 'New York', 'Charlotte', 'Toledo',\n",
        "    'Wilmington', 'Portland', 'Allentown', 'Pittsburgh',\n",
        "    'San Juan', 'Nashville', 'Austin', 'Dallas',\n",
        "    'Houston', 'San Antonio', 'Richmond', 'Seattle/Tacoma',\n",
        "    'Spokane'\n",
        "]\n",
        "\n",
        "# Define capacities for hubs and focus cities\n",
        "hub_capacities = {\n",
        "    'CVG': 95_650,\n",
        "    'AFW': 44_350\n",
        "}\n",
        "\n",
        "focus_city_capacities = {\n",
        "    'Leipzig': 85_000,\n",
        "    'Hyderabad': 19_000,\n",
        "    'San Bernardino': 36_000\n",
        "}\n",
        "\n",
        "# Define demand for each fulfillment center\n",
        "center_demands = {\n",
        "    'Paris': 6500, 'Cologne': 640, 'Hanover': 180, 'Bangalore': 9100,\n",
        "    'Coimbatore': 570, 'Delhi': 19000, 'Mumbai': 14800, 'Cagliari': 90,\n",
        "    'Catania': 185, 'Milan': 800, 'Rome': 1700, 'Katowice': 170,\n",
        "    'Barcelona': 2800, 'Madrid': 3700, 'Castle Donington': 30, 'London': 6700,\n",
        "    'Mobile': 190, 'Anchorage': 175, 'Fairbanks': 38, 'Phoenix': 2400,\n",
        "    'Los Angeles': 7200, 'Ontario': 100, 'Riverside': 1200, 'Sacramento': 1100,\n",
        "    'San Francisco': 1900, 'Stockton': 240, 'Denver': 1500, 'Hartford': 540,\n",
        "    'Miami': 3400, 'Lakeland': 185, 'Tampa': 1600, 'Atlanta': 3000,\n",
        "    'Honolulu': 500, 'Kahului/Maui': 16, 'Kona': 63, 'Chicago': 5100,\n",
        "    'Rockford': 172, 'Fort Wayne': 200, 'South Bend': 173, 'Des Moines': 300,\n",
        "    'Wichita': 290, 'New Orleans': 550, 'Baltimore': 1300, 'Minneapolis': 1700,\n",
        "    'Kansas City': 975, 'St. Louis': 1200, 'Omaha': 480, 'Manchester': 100,\n",
        "    'Albuquerque': 450, 'New York': 11200, 'Charlotte': 900, 'Toledo': 290,\n",
        "    'Wilmington': 150, 'Portland': 1200, 'Allentown': 420, 'Pittsburgh': 1000,\n",
        "    'San Juan': 1100, 'Nashville': 650, 'Austin': 975, 'Dallas': 3300,\n",
        "    'Houston': 3300, 'San Antonio': 1100, 'Richmond': 600, 'Seattle/Tacoma': 2000,\n",
        "    'Spokane': 260\n",
        "}\n",
        "\n",
        "# Define transportation costs\n",
        "# Keys: tuples (source, destination)\n",
        "# Value: float (distribution cost)\n",
        "costs = {\n",
        "    # Hub to Focus City\n",
        "    ('CVG', 'Leipzig'): 1.5, ('CVG', 'San Bernardino'): 0.5,\n",
        "    ('AFW', 'San Bernardino'): 0.5,\n",
        "    ('Leipzig', 'Hyderabad'): 1.6,\n",
        "    # Hub to Fulfillment Center\n",
        "    ('CVG', 'Paris'): 1.6, ('CVG', 'Cologne'): 1.5, ('CVG', 'Hanover'): 1.5, ('CVG', 'Cagliari'): 1.5,\n",
        "    ('CVG', 'Catania'): 1.5, ('CVG', 'Milan'): 1.5, ('CVG', 'Rome'): 1.5, ('CVG', 'Katowice'): 1.4,\n",
        "    ('CVG', 'Barcelona'): 1.5, ('CVG', 'Madrid'): 1.6, ('CVG', 'Castle Donington'): 1.4, ('CVG', 'London'): 1.6,\n",
        "    ('CVG', 'Mobile'): 0.5, ('CVG', 'Anchorage'): 1.3, ('CVG', 'Fairbanks'): 1.4, ('CVG', 'Phoenix'): 0.5,\n",
        "    ('CVG', 'Los Angeles'): 0.5, ('CVG', 'Ontario'): 0.5, ('CVG', 'Riverside'): 0.5, ('CVG', 'Sacramento'): 0.5,\n",
        "    ('CVG', 'San Francisco'): 0.5, ('CVG', 'Stockton'): 0.5, ('CVG', 'Denver'): 0.5, ('CVG', 'Hartford'): 0.5,\n",
        "    ('CVG', 'Miami'): 0.5, ('CVG', 'Lakeland'): 0.5, ('CVG', 'Tampa'): 0.5, ('CVG', 'Atlanta'): 0.5,\n",
        "    ('CVG', 'Chicago'): 0.5, ('CVG', 'Rockford'): 0.5, ('CVG', 'Fort Wayne'): 0.5, ('CVG', 'South Bend'): 0.5,\n",
        "    ('CVG', 'Des Moines'): 0.5, ('CVG', 'Wichita'): 0.5, ('CVG', 'New Orleans'): 0.5, ('CVG', 'Baltimore'): 0.5,\n",
        "    ('CVG', 'Minneapolis'): 0.5, ('CVG', 'Kansas City'): 0.5, ('CVG', 'St. Louis'): 0.5, ('CVG', 'Omaha'): 0.5,\n",
        "    ('CVG', 'Manchester'): 0.5, ('CVG', 'Albuquerque'): 0.5, ('CVG', 'New York'): 0.5, ('CVG', 'Charlotte'): 0.5,\n",
        "    ('CVG', 'Toledo'): 0.5, ('CVG', 'Wilmington'): 0.5, ('CVG', 'Portland'): 0.5, ('CVG', 'Allentown'): 0.5,\n",
        "    ('CVG', 'Pittsburgh'): 0.5, ('CVG', 'San Juan'): 0.5, ('CVG', 'Nashville'): 0.5, ('CVG', 'Austin'): 0.5,\n",
        "    ('CVG', 'Dallas'): 0.5, ('CVG', 'Houston'): 0.5, ('CVG', 'San Antonio'): 0.5, ('CVG', 'Richmond'): 0.5,\n",
        "    ('CVG', 'Seattle/Tacoma'): 0.5, ('CVG', 'Spokane'): 0.5, ('AFW', 'Mobile'): 0.5, ('AFW', 'Anchorage'): 1.0,\n",
        "    ('AFW', 'Fairbanks'): 1.0, ('AFW', 'Phoenix'): 0.5, ('AFW', 'Los Angeles'): 0.5, ('AFW', 'Ontario'): 0.5,\n",
        "    ('AFW', 'Riverside'): 0.5, ('AFW', 'Sacramento'): 0.5, ('AFW', 'San Francisco'): 0.5, ('AFW', 'Stockton'): 0.5,\n",
        "    ('AFW', 'Denver'): 0.5, ('AFW', 'Hartford'): 0.5, ('AFW', 'Miami'): 0.5, ('AFW', 'Lakeland'): 0.5,\n",
        "    ('AFW', 'Tampa'): 0.5, ('AFW', 'Atlanta'): 0.5, ('AFW', 'Honolulu'): 0.5, ('AFW', 'Kahului/Maui'): 0.5,\n",
        "    ('AFW', 'Kona'): 0.5, ('AFW', 'Chicago'): 0.5, ('AFW', 'Rockford'): 0.5, ('AFW', 'Fort Wayne'): 0.5,\n",
        "    ('AFW', 'South Bend'): 0.5, ('AFW', 'Des Moines'): 0.5, ('AFW', 'Wichita'): 0.5, ('AFW', 'New Orleans'): 0.5,\n",
        "    ('AFW', 'Baltimore'): 0.5, ('AFW', 'Minneapolis'): 0.5, ('AFW', 'Kansas City'): 0.5, ('AFW', 'St. Louis'): 0.5,\n",
        "    ('AFW', 'Omaha'): 0.5, ('AFW', 'Manchester'): 0.5, ('AFW', 'Albuquerque'): 0.5, ('AFW', 'New York'): 0.5,\n",
        "    ('AFW', 'Charlotte'): 0.5, ('AFW', 'Toledo'): 0.5, ('AFW', 'Wilmington'): 0.5, ('AWF', 'Portland'): 0.5,\n",
        "    ('AFW', 'Allentown'): 0.5, ('AFW', 'Pittsburgh'): 0.5, ('AFW', 'San Juan'): 0.5, ('AFW', 'Nashville'): 0.5,\n",
        "    ('AFW', 'Austin'): 0.25, ('AFW', 'Houston'): 0.25, ('AFW', 'San Antonio'): 0.25, ('AFW', 'Richmond'): 0.5,\n",
        "    ('AFW', 'Seattle/Tacoma'): 0.5, ('AFW', 'Spokane'): 0.5,\n",
        "    # Focus City to Fulfillment Center\n",
        "    ('Leipzig', 'Paris'): 0.5, ('Leipzig', 'Cologne'): 0.5, ('Leipzig', 'Hanover'): 0.5, ('Leipzig', 'Bangalore'): 1.5,\n",
        "    ('Leipzig', 'Coimbatore'): 1.5, ('Leipzig', 'Delhi'): 1.5, ('Leipzig', 'Mumbai'): 1.5, ('Leipzig', 'Cagliari'): 0.5,\n",
        "    ('Leipzig', 'Catania'): 0.5, ('Leipzig', 'Milan'): 0.5, ('Leipzig', 'Rome'): 0.5, ('Leipzig', 'Katowice'): 0.5,\n",
        "    ('Leipzig', 'Barcelona'): 0.5, ('Leipzig', 'Madrid'): 0.5, ('Leipzig', 'Castle Donington'): 0.5, ('Leipzig', 'London'): 0.75,\n",
        "    ('Leipzig', 'Hartford'): 1.5, ('Leipzig', 'Baltimore'): 1.5, ('Leipzig', 'Manchester'): 1.5, ('Leipzig', 'New York'): 1.6,\n",
        "    ('Leipzig', 'Allentown'): 1.5, ('Hyderabad', 'Paris'): 1.1, ('Hyderabad', 'Cologne'): 1.0, ('Hyderabad', 'Hanover'): 1.0,\n",
        "    ('Hyderabad', 'Bangalore'): 0.5, ('Hyderabad', 'Coimbatore'): 0.5, ('Hyderabad', 'Delhi'): 0.5, ('Hyderabad', 'Mumbai'): 0.5,\n",
        "    ('Hyderabad', 'Cagliari'): 1.0, ('Hyderabad', 'Catania'): 1.0, ('Hyderabad', 'Milan'): 1.0, ('Hyderabad', 'Rome'): 1.1,\n",
        "    ('Hyderabad', 'Katowice'): 1.0, ('Hyderabad', 'Barcelona'): 1.0, ('Hyderabad', 'Madrid'): 1.1, ('Hyderabad', 'London'): 1.1,\n",
        "    ('San Bernardino', 'Mobile'): 0.5, ('San Bernardino', 'Anchorage'): 0.7, ('San Bernardino', 'Fairbanks'): 0.7, ('San Bernardino', 'Phoenix'): 0.5,\n",
        "    ('San Bernardino', 'Sacramento'): 0.5, ('San Bernardino', 'San Francisco'): 0.5, ('San Bernardino', 'Stockton'): 0.5, ('San Bernardino', 'Denver'): 0.5,\n",
        "    ('San Bernardino', 'Hartford'): 0.5, ('San Bernardino', 'Miami'): 0.7, ('San Bernardino', 'Lakeland'): 0.7, ('San Bernardino', 'Tampa'): 0.7,\n",
        "    ('San Bernardino', 'Atlanta'): 0.6, ('San Bernardino', 'Honolulu'): 0.5, ('San Bernardino', 'Kahului/Maui'): 0.5, ('San Bernardino', 'Kona'): 0.5,\n",
        "    ('San Bernardino', 'Chicago'): 0.5, ('San Bernardino', 'Rockford'): 0.5, ('San Bernardino', 'Fort Wayne'): 0.5, ('San Bernardino', 'South Bend'): 0.5,\n",
        "    ('San Bernardino', 'Des Moines'): 0.5, ('San Bernardino', 'Wichita'): 0.5, ('San Bernardino', 'New Orleans'): 0.5, ('San Bernardino', 'Baltimore'): 0.7,\n",
        "    ('San Bernardino', 'Minneapolis'): 0.5, ('San Bernardino', 'Kansas City'): 0.5, ('San Bernardino', 'St. Louis'): 0.5, ('San Bernardino', 'Omaha'): 0.5,\n",
        "    ('San Bernardino', 'Manchester'): 0.7, ('San Bernardino', 'Albuquerque'): 0.5, ('San Bernardino', 'New York'): 0.7, ('San Bernardino', 'Charlotte'): 0.7,\n",
        "    ('San Bernardino', 'Toledo'): 0.5, ('San Bernardino', 'Wilmington'): 0.7, ('San Bernardino', 'Portland'): 0.5, ('San Bernardino', 'Allentown'): 0.7,\n",
        "    ('San Bernardino', 'Pittsburgh'): 0.6, ('San Bernardino', 'San Juan'): 1.0, ('San Bernardino', 'Nashville'): 0.5, ('San Bernardino', 'Austin'): 0.5,\n",
        "    ('San Bernardino', 'Dallas'): 0.5, ('San Bernardino', 'Houston'): 0.5, ('San Bernardino', 'San Antonio'): 0.5, ('San Bernardino', 'Richmond'): 0.7,\n",
        "    ('San Bernardino', 'Seattle/Tacoma'): 0.5, ('San Bernardino', 'Spokane'): 0.5\n",
        "}"
      ],
      "metadata": {
        "id": "j6U9r0Eklybs"
      },
      "execution_count": 6,
      "outputs": []
    },
    {
      "cell_type": "markdown",
      "source": [
        "The code cell above defines all the data needed for each hub, focus city, and fulfillment center, including capacities and distribution costs."
      ],
      "metadata": {
        "id": "hnQGAc-4SsYp"
      }
    },
    {
      "cell_type": "code",
      "source": [
        "# --- Problem initialization ---\n",
        "# Create the linear programming problem\n",
        "# Resource: (PuLP Documentation - A Transportation Problem)\n",
        "prob = pulp.LpProblem(\"Amazon_Air_Cargo_Optimization\", pulp.LpMinimize)"
      ],
      "metadata": {
        "id": "760psIY_0TT2"
      },
      "execution_count": 7,
      "outputs": []
    },
    {
      "cell_type": "markdown",
      "source": [
        "The code above initializes the Linear Programming solver model from the PuLP library, set to find the optimal minimum."
      ],
      "metadata": {
        "id": "aIH4lwYNS0Yp"
      }
    },
    {
      "cell_type": "code",
      "source": [
        "# --- Decision Variables ---\n",
        "# x_ij, y_ik, z_jk\n",
        "\n",
        "# x_ij: hub i to focus city j\n",
        "# Create tuples of valid routes for x\n",
        "routes_x = [(h, fc) for h in hubs for fc in focus_cities if (h, fc) in costs]\n",
        "x = pulp.LpVariable.dicts(\"Shipment_Hub_to_Focus_City\", routes_x, lowBound=0, cat='Continuous')\n",
        "\n",
        "# y_ik: hub i to fulfillment center k\n",
        "# Create tuples of valid routes for y\n",
        "routes_y = [(h, c) for h in hubs for c in centers if (h, c) in costs]\n",
        "y = pulp.LpVariable.dicts(\"Shipment_Hub_to_Fulfillment_Center\", routes_y, lowBound=0, cat='Continuous')\n",
        "\n",
        "# z_jk: focus city j to fulfillment center k\n",
        "# Create tuples of valid routes for z\n",
        "routes_z = [(fc, c) for fc in focus_cities for c in centers if (fc, c) in costs]\n",
        "z = pulp.LpVariable.dicts(\"Shipment_Focus_to_Fulfillment_Center\", routes_z, lowBound=0, cat='Continuous')"
      ],
      "metadata": {
        "id": "SK2BfuQe1Oyi"
      },
      "execution_count": 8,
      "outputs": []
    },
    {
      "cell_type": "markdown",
      "source": [
        "The code above programmatically defines the constraints."
      ],
      "metadata": {
        "id": "zNqC43JgS_dc"
      }
    },
    {
      "cell_type": "code",
      "source": [
        "# --- Objective function ---\n",
        "prob += (\n",
        "    pulp.lpSum([x[route] * costs[route] for route in routes_x]) +\n",
        "    pulp.lpSum([y[route] * costs[route] for route in routes_y]) +\n",
        "    pulp.lpSum([z[route] * costs[route] for route in routes_z]),\n",
        "    \"Total_Transportation_Cost\",\n",
        ")"
      ],
      "metadata": {
        "id": "xmsJuVVH4Noh"
      },
      "execution_count": 9,
      "outputs": []
    },
    {
      "cell_type": "markdown",
      "source": [
        "The code above programmatically adds the objective function to the initialized problem solver."
      ],
      "metadata": {
        "id": "Qi_uMmTITIt6"
      }
    },
    {
      "cell_type": "code",
      "source": [
        "# --- Constraints ---\n",
        "# 1. Hub Capacity Constraints\n",
        "for h in hubs:\n",
        "    prob += (\n",
        "        pulp.lpSum([x[(h, fc)] for fc in focus_cities if (h, fc) in routes_x]) +\n",
        "        pulp.lpSum([y[(h, c)] for c in centers if (h, c) in routes_y])\n",
        "        <= hub_capacities[h],\n",
        "        f\"Hub_Capacity_{h}\",\n",
        "    )\n",
        "\n",
        "# 2. Focus City Capacity Constraints (Inbound)\n",
        "for fc in focus_cities:\n",
        "    prob += (\n",
        "        pulp.lpSum([x[(h, fc)] for h in hubs if (h, fc) in routes_x])\n",
        "        <= focus_city_capacities[fc],\n",
        "        f\"Focus_City_Capacity_Inbound_{fc}\",\n",
        "    )\n",
        "\n",
        "# 3. Flow Balance at Focus Cities (Outbound must equal inbound)\n",
        "for fc in focus_cities:\n",
        "    prob += (\n",
        "        pulp.lpSum([z[(fc, c)] for c in centers if (fc, c) in routes_z])\n",
        "        == pulp.lpSum([x[(h, fc)] for h in hubs if (h, fc) in routes_x]),\n",
        "        f\"Flow_Balance_{fc}\",\n",
        "    )\n",
        "\n",
        "# 4. Fulfillment Center Demand Constraints\n",
        "for c in centers:\n",
        "    prob += (\n",
        "        pulp.lpSum([y[(h, c)] for h in hubs if (h, c) in routes_y]) +\n",
        "        pulp.lpSum([z[(fc, c)] for fc in focus_cities if (fc, c) in routes_z])\n",
        "        == center_demands[c],\n",
        "        f\"Demand_Satisfaction_{c.replace(' ', '_').replace('/', '_')}\",\n",
        "    )"
      ],
      "metadata": {
        "id": "UPzcUdGs5v2U"
      },
      "execution_count": 10,
      "outputs": []
    },
    {
      "cell_type": "markdown",
      "source": [
        "The code above adds the identified constraints to the initialized problem solver."
      ],
      "metadata": {
        "id": "QM_q8ZdiTQHG"
      }
    },
    {
      "cell_type": "markdown",
      "source": [
        "### A1. Demonstrate Solver Solution"
      ],
      "metadata": {
        "id": "12Trkl-3j9fX"
      }
    },
    {
      "cell_type": "markdown",
      "source": [
        "> Demonstrate that the solver provided a solution to the optimization problem."
      ],
      "metadata": {
        "id": "ZAXF5e77kS41"
      }
    },
    {
      "cell_type": "code",
      "source": [
        "# --- Solve the Problem ---\n",
        "# The problem is solved using PuLP's default solver (CBC)\n",
        "prob.solve()\n",
        "\n",
        "# Display the Results\n",
        "print(\"=\" * 80)\n",
        "print(f\"Optimization Solution\")\n",
        "print(\"=\" * 80)\n",
        "print(f\"Status: {pulp.LpStatus[prob.status]}\")\n",
        "print(f\"Total Cost: ${pulp.value(prob.objective):,.2f}\")"
      ],
      "metadata": {
        "colab": {
          "base_uri": "https://localhost:8080/"
        },
        "id": "O6FyEIITZCHg",
        "outputId": "057b70c9-5b0a-495a-e948-14cbb5dde014"
      },
      "execution_count": 13,
      "outputs": [
        {
          "output_type": "stream",
          "name": "stdout",
          "text": [
            "================================================================================\n",
            "Optimization Solution\n",
            "================================================================================\n",
            "Status: Optimal\n",
            "Total Cost: $199,476.25\n"
          ]
        }
      ]
    },
    {
      "cell_type": "markdown",
      "source": [
        "The code above uses attributes generated from the problem solver to demonstrate that we have returned an optimal status and that the total cost of shipments equals **$199,476.25**."
      ],
      "metadata": {
        "id": "ku7z1McJTZkT"
      }
    },
    {
      "cell_type": "markdown",
      "source": [
        "## B. Output Analysis"
      ],
      "metadata": {
        "id": "X81jV7Maj_pY"
      }
    },
    {
      "cell_type": "markdown",
      "source": [
        "> Analyze the output of your model to demonstrate that the solution satisfies the requirements of the problem."
      ],
      "metadata": {
        "id": "odetB7x5kU11"
      }
    },
    {
      "cell_type": "code",
      "source": [
        "# --- Solve the Problem ---\n",
        "# The problem is solved using PuLP's default solver (CBC)\n",
        "prob.solve()\n",
        "\n",
        "# Display the Results\n",
        "print(\"=\" * 80)\n",
        "print(f\"Optimization Solution\")\n",
        "print(\"=\" * 80)\n",
        "print(f\"Status: {pulp.LpStatus[prob.status]}\")\n",
        "print(f\"Total Cost: ${pulp.value(prob.objective):,.2f}\")\n",
        "\n",
        "\n",
        "print(\"=\" * 80)\n",
        "print(\"\\nOptimal Shipping Plan (in tons)\")\n",
        "\n",
        "print(\"-\" * 80)\n",
        "print(\"\\nHub to Focus City Shipments\")\n",
        "for (h, fc) in routes_x:\n",
        "    if x[(h, fc)].varValue > 0:\n",
        "        print(f\"-  {h} -> {fc}: {x[(h, fc)].varValue:,.0f}\")\n",
        "\n",
        "print(\"-\" * 80)\n",
        "print(\"\\nHub to Center Shipments\")\n",
        "for (h, c) in routes_y:\n",
        "    if y[(h, c)].varValue > 0:\n",
        "        print(f\"-  {h} -> {c}: {y[(h, c)].varValue:,.0f}\")\n",
        "\n",
        "print(\"-\" * 80)\n",
        "print(\"\\nFocus City to Center Shipments\")\n",
        "for (fc, c) in routes_z:\n",
        "    if z[(fc, c)].varValue > 0:\n",
        "        print(f\"-  {fc} -> {c}: {z[(fc, c)].varValue:,.0f}\")"
      ],
      "metadata": {
        "colab": {
          "base_uri": "https://localhost:8080/"
        },
        "id": "q3epgzKrbtNu",
        "outputId": "a539a6a6-3e71-4db6-dbc4-10c203f33ee4"
      },
      "execution_count": 14,
      "outputs": [
        {
          "output_type": "stream",
          "name": "stdout",
          "text": [
            "================================================================================\n",
            "Optimization Solution\n",
            "================================================================================\n",
            "Status: Optimal\n",
            "Total Cost: $199,476.25\n",
            "================================================================================\n",
            "\n",
            "Optimal Shipping Plan (in tons)\n",
            "--------------------------------------------------------------------------------\n",
            "\n",
            "Hub to Focus City Shipments\n",
            "-  CVG -> Leipzig: 43,470\n",
            "--------------------------------------------------------------------------------\n",
            "\n",
            "Hub to Center Shipments\n",
            "-  CVG -> Paris: 6,500\n",
            "-  CVG -> Cologne: 640\n",
            "-  CVG -> Hanover: 180\n",
            "-  CVG -> Cagliari: 90\n",
            "-  CVG -> Catania: 185\n",
            "-  CVG -> Milan: 800\n",
            "-  CVG -> Rome: 1,700\n",
            "-  CVG -> Katowice: 170\n",
            "-  CVG -> Barcelona: 2,800\n",
            "-  CVG -> Madrid: 3,700\n",
            "-  CVG -> Castle Donington: 30\n",
            "-  CVG -> London: 6,700\n",
            "-  CVG -> Los Angeles: 7,200\n",
            "-  CVG -> Ontario: 100\n",
            "-  CVG -> Riverside: 1,200\n",
            "-  CVG -> San Francisco: 1,900\n",
            "-  CVG -> Chicago: 5,100\n",
            "-  CVG -> Des Moines: 300\n",
            "-  CVG -> New York: 8,385\n",
            "-  CVG -> Portland: 1,200\n",
            "-  CVG -> Dallas: 3,300\n",
            "-  AFW -> Mobile: 190\n",
            "-  AFW -> Anchorage: 175\n",
            "-  AFW -> Fairbanks: 38\n",
            "-  AFW -> Phoenix: 2,400\n",
            "-  AFW -> Sacramento: 1,100\n",
            "-  AFW -> Stockton: 240\n",
            "-  AFW -> Denver: 1,500\n",
            "-  AFW -> Hartford: 540\n",
            "-  AFW -> Miami: 3,400\n",
            "-  AFW -> Lakeland: 185\n",
            "-  AFW -> Tampa: 1,600\n",
            "-  AFW -> Atlanta: 3,000\n",
            "-  AFW -> Honolulu: 500\n",
            "-  AFW -> Kahului/Maui: 16\n",
            "-  AFW -> Kona: 63\n",
            "-  AFW -> Rockford: 172\n",
            "-  AFW -> Fort Wayne: 200\n",
            "-  AFW -> South Bend: 173\n",
            "-  AFW -> Wichita: 290\n",
            "-  AFW -> New Orleans: 550\n",
            "-  AFW -> Baltimore: 1,300\n",
            "-  AFW -> Minneapolis: 1,700\n",
            "-  AFW -> Kansas City: 975\n",
            "-  AFW -> St. Louis: 1,200\n",
            "-  AFW -> Omaha: 480\n",
            "-  AFW -> Manchester: 100\n",
            "-  AFW -> Albuquerque: 450\n",
            "-  AFW -> New York: 2,815\n",
            "-  AFW -> Charlotte: 900\n",
            "-  AFW -> Toledo: 290\n",
            "-  AFW -> Wilmington: 150\n",
            "-  AFW -> Allentown: 420\n",
            "-  AFW -> Pittsburgh: 1,000\n",
            "-  AFW -> San Juan: 1,100\n",
            "-  AFW -> Nashville: 650\n",
            "-  AFW -> Austin: 975\n",
            "-  AFW -> Houston: 3,300\n",
            "-  AFW -> San Antonio: 1,100\n",
            "-  AFW -> Richmond: 600\n",
            "-  AFW -> Seattle/Tacoma: 2,000\n",
            "-  AFW -> Spokane: 260\n",
            "--------------------------------------------------------------------------------\n",
            "\n",
            "Focus City to Center Shipments\n",
            "-  Leipzig -> Bangalore: 9,100\n",
            "-  Leipzig -> Coimbatore: 570\n",
            "-  Leipzig -> Delhi: 19,000\n",
            "-  Leipzig -> Mumbai: 14,800\n"
          ]
        }
      ]
    },
    {
      "cell_type": "markdown",
      "source": [
        "The output from the Python script provides an optimal shipping plan that minimizes total transportation costs while adhering to all operational constraints. The solver successfully found a solution, indicated by the \"Optimal\" status, which a minimum total cost of **$199,476.25**."
      ],
      "metadata": {
        "id": "K-J4tDAILFqA"
      }
    },
    {
      "cell_type": "markdown",
      "source": [
        "### B1. Satisfying Optimization Problem Constraints"
      ],
      "metadata": {
        "id": "OArG4VVWkBll"
      }
    },
    {
      "cell_type": "markdown",
      "source": [
        "> Demonstrate that the constraints of the optimization problem are satisfied."
      ],
      "metadata": {
        "id": "aEMNT73QkWkf"
      }
    },
    {
      "cell_type": "markdown",
      "source": [
        "### B2. Decision Variables, Constraints, and Objective Function"
      ],
      "metadata": {
        "id": "3cirxdVikEmj"
      }
    },
    {
      "cell_type": "markdown",
      "source": [
        "> Demonstrate that the solution includes decision variables, constraints, and the objective function."
      ],
      "metadata": {
        "id": "8chuI2zCkYNM"
      }
    },
    {
      "cell_type": "markdown",
      "source": [
        "### B3. Expected Output Solution"
      ],
      "metadata": {
        "id": "jnRHolYYkHjF"
      }
    },
    {
      "cell_type": "markdown",
      "source": [
        "> Explain why the solution that your code outputs matches your expected output."
      ],
      "metadata": {
        "id": "yMWxmFiDkZDW"
      }
    },
    {
      "cell_type": "markdown",
      "source": [
        "## C. Reflection"
      ],
      "metadata": {
        "id": "98kV3iF1kJXv"
      }
    },
    {
      "cell_type": "markdown",
      "source": [
        "> Provide a reflection on how the development of your approach matched your expectations of the process."
      ],
      "metadata": {
        "id": "BZpN5wp7kbU6"
      }
    },
    {
      "cell_type": "markdown",
      "source": [
        "## D. Sources"
      ],
      "metadata": {
        "id": "M9Xtf38VkKl3"
      }
    },
    {
      "cell_type": "markdown",
      "source": [
        "> Acknowledge sources, using in-text citations and references, for content that is quoted, paraphrased, or summarized.\n",
        "\n"
      ],
      "metadata": {
        "id": "izUT_11zkctd"
      }
    },
    {
      "cell_type": "markdown",
      "source": [
        "* [PuLP Documentation - A Transportation Problem](https://coin-or.github.io/pulp/CaseStudies/a_transportation_problem.html)\n",
        "* WGU Course Materials"
      ],
      "metadata": {
        "id": "HPs-aio3kLgN"
      }
    },
    {
      "cell_type": "code",
      "source": [],
      "metadata": {
        "id": "lqCTs2Ls1HLB"
      },
      "execution_count": null,
      "outputs": []
    }
  ]
}