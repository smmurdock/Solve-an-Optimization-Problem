{
  "nbformat": 4,
  "nbformat_minor": 0,
  "metadata": {
    "colab": {
      "provenance": [],
      "authorship_tag": "ABX9TyMdhPXZ/salGv+c92O/05/n",
      "include_colab_link": true
    },
    "kernelspec": {
      "name": "python3",
      "display_name": "Python 3"
    },
    "language_info": {
      "name": "python"
    }
  },
  "cells": [
    {
      "cell_type": "markdown",
      "metadata": {
        "id": "view-in-github",
        "colab_type": "text"
      },
      "source": [
        "<a href=\"https://colab.research.google.com/github/smmurdock/Solve-an-Optimization-Problem/blob/main/D605_Task_3.ipynb\" target=\"_parent\"><img src=\"https://colab.research.google.com/assets/colab-badge.svg\" alt=\"Open In Colab\"/></a>"
      ]
    },
    {
      "cell_type": "markdown",
      "source": [
        "# D605 Task 3 - Identification of the Objective Function and Constraints"
      ],
      "metadata": {
        "id": "rPDBjDsRj1m_"
      }
    },
    {
      "cell_type": "markdown",
      "source": [
        "## A. Optimization Problem Program"
      ],
      "metadata": {
        "id": "SwNz8Kfmj6vV"
      }
    },
    {
      "cell_type": "markdown",
      "source": [
        "> Using the mathematical representations that you developed in Task 2, write a program in either Python or R to solve the optimization problem computationally."
      ],
      "metadata": {
        "id": "NgHKGXVwkQXp"
      }
    },
    {
      "cell_type": "code",
      "source": [
        "!pip install pulp"
      ],
      "metadata": {
        "colab": {
          "base_uri": "https://localhost:8080/"
        },
        "id": "sQ5Xu4Wpkg4Y",
        "outputId": "f7ea6099-2ede-4fdb-c8ed-3259532f4922"
      },
      "execution_count": 1,
      "outputs": [
        {
          "output_type": "stream",
          "name": "stdout",
          "text": [
            "Collecting pulp\n",
            "  Downloading pulp-3.3.0-py3-none-any.whl.metadata (8.4 kB)\n",
            "Downloading pulp-3.3.0-py3-none-any.whl (16.4 MB)\n",
            "\u001b[2K   \u001b[90m━━━━━━━━━━━━━━━━━━━━━━━━━━━━━━━━━━━━━━━━\u001b[0m \u001b[32m16.4/16.4 MB\u001b[0m \u001b[31m62.8 MB/s\u001b[0m eta \u001b[36m0:00:00\u001b[0m\n",
            "\u001b[?25hInstalling collected packages: pulp\n",
            "Successfully installed pulp-3.3.0\n"
          ]
        }
      ]
    },
    {
      "cell_type": "code",
      "source": [
        "import pulp\n",
        "import sys"
      ],
      "metadata": {
        "id": "f2lcFxsqk0Es"
      },
      "execution_count": 2,
      "outputs": []
    },
    {
      "cell_type": "code",
      "source": [
        "# Data definitions as described from \"Amazon Distribution.docx\"\n",
        "# --- Define the sets of locations ---\n",
        "hubs = ['CVG', 'AFW']\n",
        "focus_cities = ['Leipzig', 'Hyderabad', 'San Bernardino']\n",
        "fulfillment_centers = [\n",
        "    'Paris', 'Cologne', 'Hanover', 'Bangalore',\n",
        "    'Coimbatore', 'Delhi', 'Mumbai', 'Cagliari',\n",
        "    'Catania', 'Milan', 'Rome', 'Katowice',\n",
        "    'Barcelona', 'Madrid', 'Castle Donington', 'London',\n",
        "    'Mobile', 'Anchorage', 'Fairbanks', 'Phoenix',\n",
        "    'Los Angeles', 'Ontario', 'Riverside', 'Sacramento',\n",
        "    'San Francisco', 'Stockton', 'Denver', 'Hartford',\n",
        "    'Miami', 'Lakeland', 'Tampa', 'Atlanta',\n",
        "    'Honolulu', 'Kahului/Maui', 'Kona', 'Chicago',\n",
        "    'Rockford', 'Fort Wayne', 'South Bend', 'Des Moines',\n",
        "    'Wichita', 'New Orleans', 'Baltimore', 'Minneapolis',\n",
        "    'Kansas City', 'St. Louis', 'Omaha', 'Manchester',\n",
        "    'Albuquerque', 'New York', 'Charlotte', 'Toledo',\n",
        "    'Wilmington', 'Portland', 'Allentown', 'Pittsburgh',\n",
        "    'San Juan', 'Nashville', 'Austin', 'Dallas',\n",
        "    'Houston', 'San Antonio', 'Richmond', 'Seattle/Tacoma',\n",
        "    'Spokane'\n",
        "]\n",
        "\n",
        "# --- Define capacities for hubs and focus cities ---\n",
        "hub_capacities_per_month = {\n",
        "    'CVG': 95_650,\n",
        "    'AFW': 44_350\n",
        "}\n",
        "\n",
        "focus_city_capacities_per_month = {\n",
        "    'Leipzig': 85_000,\n",
        "    'Hyderabad': 19_000,\n",
        "    'San Bernardino': 36_000\n",
        "}\n",
        "\n",
        "# --- Define demand for each fulfillment center ---\n",
        "center_demands_per_month = {\n",
        "    'Paris': 6500, 'Cologne': 640, 'Hanover': 180, 'Bangalore': 9100,\n",
        "    'Coimbatore': 570, 'Delhi': 19000, 'Mumbai': 14800, 'Cagliari': 90,\n",
        "    'Catania': 185, 'Milan': 800, 'Rome': 1700, 'Katowice': 170,\n",
        "    'Barcelona': 2800, 'Madrid': 3700, 'Castle Donington': 30, 'London': 6700,\n",
        "    'Mobile': 190, 'Anchorage': 175, 'Fairbanks': 38, 'Phoenix': 2400,\n",
        "    'Los Angeles': 7200, 'Ontario': 100, 'Riverside': 1200, 'Sacramento': 1100,\n",
        "    'San Francisco': 1900, 'Stockton': 240, 'Denver': 1500, 'Hartford': 540,\n",
        "    'Miami': 3400, 'Lakeland': 185, 'Tampa': 1600, 'Atlanta': 3000,\n",
        "    'Honolulu': 500, 'Kahului/Maui': 16, 'Kona': 63, 'Chicago': 5100,\n",
        "    'Rockford': 172, 'Fort Wayne': 200, 'South Bend': 173, 'Des Moines': 300,\n",
        "    'Wichita': 290, 'New Orleans': 550, 'Baltimore': 1300, 'Minneapolis': 1700,\n",
        "    'Kansas City': 975, 'St. Louis': 1200, 'Omaha': 480, 'Manchester': 100,\n",
        "    'Albuquerque': 450, 'New York': 11200, 'Charlotte': 900, 'Toledo': 290,\n",
        "    'Wilmington': 150, 'Portland': 1200, 'Allentown': 420, 'Pittsburgh': 1000,\n",
        "    'San Juan': 1100, 'Nashville': 650, 'Austin': 975, 'Dallas': 3300,\n",
        "    'Houston': 3300, 'San Antonio': 1100, 'Richmond': 600, 'Seattle/Tacoma': 2000,\n",
        "    'Spokane': 260\n",
        "}\n",
        "\n",
        "# --- Define transportation costs ---\n",
        "# Keys: tuples (source, destination)\n",
        "costs = {\n",
        "    ('CVG', 'Leipzig'): 1.5, ('CVG', 'San Bernardino'): 0.5,\n",
        "    ('AFW', 'San Bernardino'): 0.5,\n",
        "    ('CVG', 'Paris'): 1.6, ('CVG', 'Cologne'): 1.5, ('CVG', 'Hanover'): 1.5,\n",
        "    ('CVG', 'Cagliari'): 1.5, ('CVG', 'Catania'): 1.5, ('CVG', 'Milan'): 1.5,\n",
        "    ('CVG', 'Rome'): 1.5, ('CVG', 'Katowice'): 1.4, ('CVG', 'Barcelona'): 1.5,\n",
        "    ('CVG', 'Madrid'): 1.6, ('CVG', 'Castle Donington'): 1.4, ('CVG', 'London'): 1.6,\n",
        "    ('CVG', 'Mobile'): 0.5, ('CVG', 'Anchorage'): 1.3, ('CVG', 'Fairbanks'): 1.4,\n",
        "    ('CVG', 'Phoenix'): 0.5, ('CVG', 'Los Angeles'): 0.5, ('CVG', 'Ontario'): 0.5,\n",
        "    ('CVG', 'Riverside'): 0.5, ('CVG', 'Sacramento'): 0.5, ('CVG', 'San Francisco'): 0.5,\n",
        "    ('CVG', 'Stockton'): 0.5, ('CVG', 'Denver'): 0.5, ('CVG', 'Hartford'): 0.5,\n",
        "    ('CVG', 'Miami'): 0.5, ('CVG', 'Lakeland'): 0.5, ('CVG', 'Tampa'): 0.5,\n",
        "    ('CVG', 'Atlanta'): 0.5, ('CVG', 'Chicago'): 0.5, ('CVG', 'Rockford'): 0.5,\n",
        "    ('CVG', 'Fort Wayne'): 0.5, ('CVG', 'South Bend'): 0.5, ('CVG', 'Des Moines'): 0.5,\n",
        "    ('CVG', 'Wichita'): 0.5, ('CVG', 'New Orleans'): 0.5, ('CVG', 'Baltimore'): 0.5,\n",
        "    ('CVG', 'Minneapolis'): 0.5, ('CVG', 'Kansas City'): 0.5, ('CVG', 'St. Louis'): 0.5,\n",
        "    ('CVG', 'Omaha'): 0.5, ('CVG', 'Manchester'): 0.5, ('CVG', 'Albuquerque'): 0.5,\n",
        "    ('CVG', 'New York'): 0.5, ('CVG', 'Charlotte'): 0.5, ('CVG', 'Toledo'): 0.5,\n",
        "    ('CVG', 'Wilmington'): 0.5, ('CVG', 'Portland'): 0.5, ('CVG', 'Allentown'): 0.5,\n",
        "    ('CVG', 'Pittsburgh'): 0.5, ('CVG', 'San Juan'): 0.5, ('CVG', 'Nashville'): 0.5,\n",
        "    ('CVG', 'Austin'): 0.5, ('CVG', 'Dallas'): 0.5, ('CVG', 'Houston'): 0.5,\n",
        "    ('CVG', 'San Antonio'): 0.5, ('CVG', 'Richmond'): 0.5, ('CVG', 'Seattle/Tacoma'): 0.5,\n",
        "    ('CVG', 'Spokane'): 0.5,\n",
        "    ('AFW', 'Mobile'): 0.5, ('AFW', 'Anchorage'): 1.0, ('AFW', 'Fairbanks'): 1.0,\n",
        "    ('AFW', 'Phoenix'): 0.5, ('AFW', 'Los Angeles'): 0.5, ('AFW', 'Ontario'): 0.5,\n",
        "    ('AFW', 'Riverside'): 0.5, ('AFW', 'Sacramento'): 0.5, ('AFW', 'San Francisco'): 0.5,\n",
        "    ('AFW', 'Stockton'): 0.5, ('AFW', 'Denver'): 0.5, ('AFW', 'Hartford'): 0.5,\n",
        "    ('AFW', 'Miami'): 0.5, ('AFW', 'Lakeland'): 0.5, ('AFW', 'Tampa'): 0.5,\n",
        "    ('AFW', 'Atlanta'): 0.5, ('AFW', 'Honolulu'): 0.5, ('AFW', 'Kahului/Maui'): 0.5,\n",
        "    ('AFW', 'Kona'): 0.5, ('AFW', 'Chicago'): 0.5, ('AFW', 'Rockford'): 0.5,\n",
        "    ('AFW', 'Fort Wayne'): 0.5, ('AFW', 'South Bend'): 0.5, ('AFW', 'Des Moines'): 0.5,\n",
        "    ('AFW', 'Wichita'): 0.5, ('AFW', 'New Orleans'): 0.5, ('AFW', 'Baltimore'): 0.5,\n",
        "    ('AFW', 'Minneapolis'): 0.5, ('AFW', 'Kansas City'): 0.5, ('AFW', 'St. Louis'): 0.5,\n",
        "    ('AFW', 'Omaha'): 0.5, ('AFW', 'Manchester'): 0.5, ('AFW', 'Albuquerque'): 0.5,\n",
        "    ('AFW', 'New York'): 0.5, ('AFW', 'Charlotte'): 0.5, ('AFW', 'Toledo'): 0.5,\n",
        "    ('AFW', 'Wilmington'): 0.5, ('AFW', 'Portland'): 0.5, ('AFW', 'Allentown'): 0.5,\n",
        "    ('AFW', 'Pittsburgh'): 0.5, ('AFW', 'San Juan'): 0.5, ('AFW', 'Nashville'): 0.5,\n",
        "    ('AFW', 'Austin'): 0.25, ('AFW', 'Houston'): 0.25, ('AFW', 'San Antonio'): 0.25,\n",
        "    ('AFW', 'Richmond'): 0.5, ('AFW', 'Seattle/Tacoma'): 0.5, ('AFW', 'Spokane'): 0.5,\n",
        "    ('Leipzig', 'Hyderabad'): 1.6, ('Leipzig', 'Paris'): 0.5, ('Leipzig', 'Cologne'): 0.5,\n",
        "    ('Leipzig', 'Hanover'): 0.5, ('Leipzig', 'Bangalore'): 1.5, ('Leipzig', 'Coimbatore'): 1.5,\n",
        "    ('Leipzig', 'Delhi'): 1.5, ('Leipzig', 'Mumbai'): 1.5, ('Leipzig', 'Cagliari'): 0.5,\n",
        "    ('Leipzig', 'Catania'): 0.5, ('Leipzig', 'Milan'): 0.5, ('Leipzig', 'Rome'): 0.5,\n",
        "    ('Leipzig', 'Katowice'): 0.5, ('Leipzig', 'Barcelona'): 0.5, ('Leipzig', 'Madrid'): 0.5,\n",
        "    ('Leipzig', 'Castle Donington'): 0.5, ('Leipzig', 'London'): 0.75, ('Leipzig', 'Hartford'): 1.5,\n",
        "    ('Leipzig', 'Baltimore'): 1.5, ('Leipzig', 'Manchester'): 1.5, ('Leipzig', 'New York'): 1.6,\n",
        "    ('Leipzig', 'Allentown'): 1.5,\n",
        "    ('Hyderabad', 'Paris'): 1.1, ('Hyderabad', 'Cologne'): 1.0, ('Hyderabad', 'Hanover'): 1.0,\n",
        "    ('Hyderabad', 'Bangalore'): 0.5, ('Hyderabad', 'Coimbatore'): 0.5, ('Hyderabad', 'Delhi'): 0.5,\n",
        "    ('Hyderabad', 'Mumbai'): 0.5, ('Hyderabad', 'Cagliari'): 1.0, ('Hyderabad', 'Catania'): 1.0,\n",
        "    ('Hyderabad', 'Milan'): 1.0, ('Hyderabad', 'Rome'): 1.1, ('Hyderabad', 'Katowice'): 1.0,\n",
        "    ('Hyderabad', 'Barcelona'): 1.0, ('Hyderabad', 'Madrid'): 1.1, ('Hyderabad', 'London'): 1.1,\n",
        "    ('San Bernardino', 'Mobile'): 0.5, ('San Bernardino', 'Anchorage'): 0.7, ('San Bernardino', 'Fairbanks'): 0.7,\n",
        "    ('San Bernardino', 'Phoenix'): 0.5, ('San Bernardino', 'Sacramento'): 0.5, ('San Bernardino', 'San Francisco'): 0.5,\n",
        "    ('San Bernardino', 'Stockton'): 0.5, ('San Bernardino', 'Denver'): 0.5, ('San Bernardino', 'Hartford'): 0.5,\n",
        "    ('San Bernardino', 'Miami'): 0.7, ('San Bernardino', 'Lakeland'): 0.7, ('San Bernardino', 'Tampa'): 0.7,\n",
        "    ('San Bernardino', 'Atlanta'): 0.6, ('San Bernardino', 'Honolulu'): 0.5, ('San Bernardino', 'Kahului/Maui'): 0.5,\n",
        "    ('San Bernardino', 'Kona'): 0.5, ('San Bernardino', 'Chicago'): 0.5, ('San Bernardino', 'Rockford'): 0.5,\n",
        "    ('San Bernardino', 'Fort Wayne'): 0.5, ('San Bernardino', 'South Bend'): 0.5, ('San Bernardino', 'Des Moines'): 0.5,\n",
        "    ('San Bernardino', 'Wichita'): 0.5, ('San Bernardino', 'New Orleans'): 0.5, ('San Bernardino', 'Baltimore'): 0.7,\n",
        "    ('San Bernardino', 'Minneapolis'): 0.5, ('San Bernardino', 'Kansas City'): 0.5, ('San Bernardino', 'St. Louis'): 0.5,\n",
        "    ('San Bernardino', 'Omaha'): 0.5, ('San Bernardino', 'Manchester'): 0.7, ('San Bernardino', 'Albuquerque'): 0.5,\n",
        "    ('San Bernardino', 'New York'): 0.7, ('San Bernardino', 'Charlotte'): 0.7, ('San Bernardino', 'Toledo'): 0.5,\n",
        "    ('San Bernardino', 'Wilmington'): 0.7, ('San Bernardino', 'Portland'): 0.5, ('San Bernardino', 'Allentown'): 0.7,\n",
        "    ('San Bernardino', 'Pittsburgh'): 0.6, ('San Bernardino', 'San Juan'): 1.0, ('San Bernardino', 'Nashville'): 0.5,\n",
        "    ('San Bernardino', 'Austin'): 0.5, ('San Bernardino', 'Dallas'): 0.5, ('San Bernardino', 'Houston'): 0.5,\n",
        "    ('San Bernardino', 'San Antonio'): 0.5, ('San Bernardino', 'Richmond'): 0.7, ('San Bernardino', 'Seattle/Tacoma'): 0.5,\n",
        "    ('San Bernardino', 'Spokane'): 0.5,\n",
        "}"
      ],
      "metadata": {
        "id": "j6U9r0Eklybs"
      },
      "execution_count": 4,
      "outputs": []
    },
    {
      "cell_type": "markdown",
      "source": [
        "### A1. Demonstrate Solver Solution"
      ],
      "metadata": {
        "id": "12Trkl-3j9fX"
      }
    },
    {
      "cell_type": "markdown",
      "source": [
        "> Demonstrate that the solver provided a solution to the optimization problem."
      ],
      "metadata": {
        "id": "ZAXF5e77kS41"
      }
    },
    {
      "cell_type": "markdown",
      "source": [
        "## B. Output Analysis"
      ],
      "metadata": {
        "id": "X81jV7Maj_pY"
      }
    },
    {
      "cell_type": "markdown",
      "source": [
        "> Analyze the output of your model to demonstrate that the solution satisfies the requirements of the problem."
      ],
      "metadata": {
        "id": "odetB7x5kU11"
      }
    },
    {
      "cell_type": "markdown",
      "source": [
        "### B1. Satisfying Optimization Problem Constraints"
      ],
      "metadata": {
        "id": "OArG4VVWkBll"
      }
    },
    {
      "cell_type": "markdown",
      "source": [
        "> Demonstrate that the constraints of the optimization problem are satisfied."
      ],
      "metadata": {
        "id": "aEMNT73QkWkf"
      }
    },
    {
      "cell_type": "markdown",
      "source": [
        "### B2. Decision Variables, Constraints, and Objective Function"
      ],
      "metadata": {
        "id": "3cirxdVikEmj"
      }
    },
    {
      "cell_type": "markdown",
      "source": [
        "> Demonstrate that the solution includes decision variables, constraints, and the objective function."
      ],
      "metadata": {
        "id": "8chuI2zCkYNM"
      }
    },
    {
      "cell_type": "markdown",
      "source": [
        "### B3. Expected Output Solution"
      ],
      "metadata": {
        "id": "jnRHolYYkHjF"
      }
    },
    {
      "cell_type": "markdown",
      "source": [
        "> Explain why the solution that your code outputs matches your expected output."
      ],
      "metadata": {
        "id": "yMWxmFiDkZDW"
      }
    },
    {
      "cell_type": "markdown",
      "source": [
        "## C. Reflection"
      ],
      "metadata": {
        "id": "98kV3iF1kJXv"
      }
    },
    {
      "cell_type": "markdown",
      "source": [
        "> Provide a reflection on how the development of your approach matched your expectations of the process."
      ],
      "metadata": {
        "id": "BZpN5wp7kbU6"
      }
    },
    {
      "cell_type": "markdown",
      "source": [
        "## D. Sources"
      ],
      "metadata": {
        "id": "M9Xtf38VkKl3"
      }
    },
    {
      "cell_type": "markdown",
      "source": [
        "> Acknowledge sources, using in-text citations and references, for content that is quoted, paraphrased, or summarized.\n",
        "\n",
        ""
      ],
      "metadata": {
        "id": "izUT_11zkctd"
      }
    },
    {
      "cell_type": "markdown",
      "source": [
        "* WGU Course Materials"
      ],
      "metadata": {
        "id": "HPs-aio3kLgN"
      }
    }
  ]
}